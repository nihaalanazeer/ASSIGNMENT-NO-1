{
 "cells": [
  {
   "cell_type": "code",
   "execution_count": 1,
   "id": "4260001e",
   "metadata": {},
   "outputs": [],
   "source": [
    "#importing libraries\n",
    "import numpy as np\n",
    "import pandas as pd\n",
    "import matplotlib.pyplot as plt\n",
    "%matplotlib inline\n",
    "import seaborn as sns"
   ]
  },
  {
   "cell_type": "code",
   "execution_count": 2,
   "id": "17b57e3e",
   "metadata": {},
   "outputs": [],
   "source": [
    "\n",
    "#loading dataset\n",
    "df=pd.read_csv(r'file:///C:\\Users\\SHAKIR\\OneDrive\\Desktop\\DATASET\\Wine_clust.csv')"
   ]
  },
  {
   "cell_type": "code",
   "execution_count": 3,
   "id": "61e9ae72",
   "metadata": {},
   "outputs": [
    {
     "data": {
      "text/html": [
       "<div>\n",
       "<style scoped>\n",
       "    .dataframe tbody tr th:only-of-type {\n",
       "        vertical-align: middle;\n",
       "    }\n",
       "\n",
       "    .dataframe tbody tr th {\n",
       "        vertical-align: top;\n",
       "    }\n",
       "\n",
       "    .dataframe thead th {\n",
       "        text-align: right;\n",
       "    }\n",
       "</style>\n",
       "<table border=\"1\" class=\"dataframe\">\n",
       "  <thead>\n",
       "    <tr style=\"text-align: right;\">\n",
       "      <th></th>\n",
       "      <th>Alcohol</th>\n",
       "      <th>Malic_Acid</th>\n",
       "      <th>Ash</th>\n",
       "      <th>Ash_Alcanity</th>\n",
       "      <th>Magnesium</th>\n",
       "      <th>Total_Phenols</th>\n",
       "      <th>Flavanoids</th>\n",
       "      <th>Nonflavanoid_Phenols</th>\n",
       "      <th>Proanthocyanins</th>\n",
       "      <th>Color_Intensity</th>\n",
       "      <th>Hue</th>\n",
       "      <th>OD280</th>\n",
       "      <th>Proline</th>\n",
       "    </tr>\n",
       "  </thead>\n",
       "  <tbody>\n",
       "    <tr>\n",
       "      <th>0</th>\n",
       "      <td>14.23</td>\n",
       "      <td>1.71</td>\n",
       "      <td>2.43</td>\n",
       "      <td>15.6</td>\n",
       "      <td>127</td>\n",
       "      <td>2.80</td>\n",
       "      <td>3.06</td>\n",
       "      <td>0.28</td>\n",
       "      <td>2.29</td>\n",
       "      <td>5.64</td>\n",
       "      <td>1.04</td>\n",
       "      <td>3.92</td>\n",
       "      <td>1065</td>\n",
       "    </tr>\n",
       "    <tr>\n",
       "      <th>1</th>\n",
       "      <td>13.20</td>\n",
       "      <td>1.78</td>\n",
       "      <td>2.14</td>\n",
       "      <td>11.2</td>\n",
       "      <td>100</td>\n",
       "      <td>2.65</td>\n",
       "      <td>2.76</td>\n",
       "      <td>0.26</td>\n",
       "      <td>1.28</td>\n",
       "      <td>4.38</td>\n",
       "      <td>1.05</td>\n",
       "      <td>3.40</td>\n",
       "      <td>1050</td>\n",
       "    </tr>\n",
       "    <tr>\n",
       "      <th>2</th>\n",
       "      <td>13.16</td>\n",
       "      <td>2.36</td>\n",
       "      <td>2.67</td>\n",
       "      <td>18.6</td>\n",
       "      <td>101</td>\n",
       "      <td>2.80</td>\n",
       "      <td>3.24</td>\n",
       "      <td>0.30</td>\n",
       "      <td>2.81</td>\n",
       "      <td>5.68</td>\n",
       "      <td>1.03</td>\n",
       "      <td>3.17</td>\n",
       "      <td>1185</td>\n",
       "    </tr>\n",
       "    <tr>\n",
       "      <th>3</th>\n",
       "      <td>14.37</td>\n",
       "      <td>1.95</td>\n",
       "      <td>2.50</td>\n",
       "      <td>16.8</td>\n",
       "      <td>113</td>\n",
       "      <td>3.85</td>\n",
       "      <td>3.49</td>\n",
       "      <td>0.24</td>\n",
       "      <td>2.18</td>\n",
       "      <td>7.80</td>\n",
       "      <td>0.86</td>\n",
       "      <td>3.45</td>\n",
       "      <td>1480</td>\n",
       "    </tr>\n",
       "    <tr>\n",
       "      <th>4</th>\n",
       "      <td>13.24</td>\n",
       "      <td>2.59</td>\n",
       "      <td>2.87</td>\n",
       "      <td>21.0</td>\n",
       "      <td>118</td>\n",
       "      <td>2.80</td>\n",
       "      <td>2.69</td>\n",
       "      <td>0.39</td>\n",
       "      <td>1.82</td>\n",
       "      <td>4.32</td>\n",
       "      <td>1.04</td>\n",
       "      <td>2.93</td>\n",
       "      <td>735</td>\n",
       "    </tr>\n",
       "  </tbody>\n",
       "</table>\n",
       "</div>"
      ],
      "text/plain": [
       "   Alcohol  Malic_Acid   Ash  Ash_Alcanity  Magnesium  Total_Phenols  \\\n",
       "0    14.23        1.71  2.43          15.6        127           2.80   \n",
       "1    13.20        1.78  2.14          11.2        100           2.65   \n",
       "2    13.16        2.36  2.67          18.6        101           2.80   \n",
       "3    14.37        1.95  2.50          16.8        113           3.85   \n",
       "4    13.24        2.59  2.87          21.0        118           2.80   \n",
       "\n",
       "   Flavanoids  Nonflavanoid_Phenols  Proanthocyanins  Color_Intensity   Hue  \\\n",
       "0        3.06                  0.28             2.29             5.64  1.04   \n",
       "1        2.76                  0.26             1.28             4.38  1.05   \n",
       "2        3.24                  0.30             2.81             5.68  1.03   \n",
       "3        3.49                  0.24             2.18             7.80  0.86   \n",
       "4        2.69                  0.39             1.82             4.32  1.04   \n",
       "\n",
       "   OD280  Proline  \n",
       "0   3.92     1065  \n",
       "1   3.40     1050  \n",
       "2   3.17     1185  \n",
       "3   3.45     1480  \n",
       "4   2.93      735  "
      ]
     },
     "execution_count": 3,
     "metadata": {},
     "output_type": "execute_result"
    }
   ],
   "source": [
    "\n",
    "df.head()"
   ]
  },
  {
   "cell_type": "code",
   "execution_count": 4,
   "id": "881a634f",
   "metadata": {},
   "outputs": [
    {
     "data": {
      "text/plain": [
       "(178, 13)"
      ]
     },
     "execution_count": 4,
     "metadata": {},
     "output_type": "execute_result"
    }
   ],
   "source": [
    "\n",
    "df.shape"
   ]
  },
  {
   "cell_type": "code",
   "execution_count": 5,
   "id": "5547c02c",
   "metadata": {},
   "outputs": [
    {
     "name": "stdout",
     "output_type": "stream",
     "text": [
      "<class 'pandas.core.frame.DataFrame'>\n",
      "RangeIndex: 178 entries, 0 to 177\n",
      "Data columns (total 13 columns):\n",
      " #   Column                Non-Null Count  Dtype  \n",
      "---  ------                --------------  -----  \n",
      " 0   Alcohol               178 non-null    float64\n",
      " 1   Malic_Acid            178 non-null    float64\n",
      " 2   Ash                   178 non-null    float64\n",
      " 3   Ash_Alcanity          178 non-null    float64\n",
      " 4   Magnesium             178 non-null    int64  \n",
      " 5   Total_Phenols         178 non-null    float64\n",
      " 6   Flavanoids            178 non-null    float64\n",
      " 7   Nonflavanoid_Phenols  178 non-null    float64\n",
      " 8   Proanthocyanins       178 non-null    float64\n",
      " 9   Color_Intensity       178 non-null    float64\n",
      " 10  Hue                   178 non-null    float64\n",
      " 11  OD280                 178 non-null    float64\n",
      " 12  Proline               178 non-null    int64  \n",
      "dtypes: float64(11), int64(2)\n",
      "memory usage: 18.2 KB\n"
     ]
    }
   ],
   "source": [
    "\n",
    "df.info()"
   ]
  },
  {
   "cell_type": "code",
   "execution_count": 6,
   "id": "a751d317",
   "metadata": {},
   "outputs": [
    {
     "data": {
      "text/plain": [
       "Alcohol                 0\n",
       "Malic_Acid              0\n",
       "Ash                     0\n",
       "Ash_Alcanity            0\n",
       "Magnesium               0\n",
       "Total_Phenols           0\n",
       "Flavanoids              0\n",
       "Nonflavanoid_Phenols    0\n",
       "Proanthocyanins         0\n",
       "Color_Intensity         0\n",
       "Hue                     0\n",
       "OD280                   0\n",
       "Proline                 0\n",
       "dtype: int64"
      ]
     },
     "execution_count": 6,
     "metadata": {},
     "output_type": "execute_result"
    }
   ],
   "source": [
    "#checking for null values\n",
    "df.isnull().sum()"
   ]
  },
  {
   "cell_type": "code",
   "execution_count": 7,
   "id": "51e344b2",
   "metadata": {},
   "outputs": [],
   "source": [
    "duplicate = df[df.duplicated()]#checking for duplicated rows"
   ]
  },
  {
   "cell_type": "code",
   "execution_count": 8,
   "id": "cda59206",
   "metadata": {},
   "outputs": [
    {
     "data": {
      "text/html": [
       "<div>\n",
       "<style scoped>\n",
       "    .dataframe tbody tr th:only-of-type {\n",
       "        vertical-align: middle;\n",
       "    }\n",
       "\n",
       "    .dataframe tbody tr th {\n",
       "        vertical-align: top;\n",
       "    }\n",
       "\n",
       "    .dataframe thead th {\n",
       "        text-align: right;\n",
       "    }\n",
       "</style>\n",
       "<table border=\"1\" class=\"dataframe\">\n",
       "  <thead>\n",
       "    <tr style=\"text-align: right;\">\n",
       "      <th></th>\n",
       "      <th>Alcohol</th>\n",
       "      <th>Malic_Acid</th>\n",
       "      <th>Ash</th>\n",
       "      <th>Ash_Alcanity</th>\n",
       "      <th>Magnesium</th>\n",
       "      <th>Total_Phenols</th>\n",
       "      <th>Flavanoids</th>\n",
       "      <th>Nonflavanoid_Phenols</th>\n",
       "      <th>Proanthocyanins</th>\n",
       "      <th>Color_Intensity</th>\n",
       "      <th>Hue</th>\n",
       "      <th>OD280</th>\n",
       "      <th>Proline</th>\n",
       "    </tr>\n",
       "  </thead>\n",
       "  <tbody>\n",
       "  </tbody>\n",
       "</table>\n",
       "</div>"
      ],
      "text/plain": [
       "Empty DataFrame\n",
       "Columns: [Alcohol, Malic_Acid, Ash, Ash_Alcanity, Magnesium, Total_Phenols, Flavanoids, Nonflavanoid_Phenols, Proanthocyanins, Color_Intensity, Hue, OD280, Proline]\n",
       "Index: []"
      ]
     },
     "execution_count": 8,
     "metadata": {},
     "output_type": "execute_result"
    }
   ],
   "source": [
    "duplicate"
   ]
  },
  {
   "cell_type": "code",
   "execution_count": 9,
   "id": "8f21c52f",
   "metadata": {},
   "outputs": [],
   "source": [
    "# OUTLIER DETECTION"
   ]
  },
  {
   "cell_type": "code",
   "execution_count": 10,
   "id": "237610b8",
   "metadata": {},
   "outputs": [
    {
     "data": {
      "text/plain": [
       "Index(['Alcohol', 'Malic_Acid', 'Ash', 'Ash_Alcanity', 'Magnesium',\n",
       "       'Total_Phenols', 'Flavanoids', 'Nonflavanoid_Phenols',\n",
       "       'Proanthocyanins', 'Color_Intensity', 'Hue', 'OD280', 'Proline'],\n",
       "      dtype='object')"
      ]
     },
     "execution_count": 10,
     "metadata": {},
     "output_type": "execute_result"
    }
   ],
   "source": [
    "df.columns"
   ]
  },
  {
   "cell_type": "code",
   "execution_count": 11,
   "id": "1160cfab",
   "metadata": {},
   "outputs": [
    {
     "data": {
      "image/png": "[encoded data removed]",
      "text/plain": [
       "<Figure size 2000x1500 with 13 Axes>"
      ]
     },
     "metadata": {},
     "output_type": "display_data"
    }
   ],
   "source": [
    "#boxplot of each columns....\n",
    "plt.figure(figsize=(20,15))\n",
    "plt.subplot(4,4,1)\n",
    "sns.boxplot(data=df,y='Alcohol')\n",
    "\n",
    "plt.subplot(4,4,2)\n",
    "sns.boxplot(data=df,y='Malic_Acid')\n",
    "\n",
    "plt.subplot(4,4,3)\n",
    "sns.boxplot(data=df,y='Ash')\n",
    "\n",
    "plt.subplot(4,4,4)\n",
    "sns.boxplot(data=df,y='Ash_Alcanity')\n",
    "\n",
    "plt.subplot(4,4,5)\n",
    "sns.boxplot(data=df,y='Magnesium')\n",
    "\n",
    "plt.subplot(4,4,6)\n",
    "sns.boxplot(data=df,y='Total_Phenols')\n",
    "\n",
    "plt.subplot(4,4,7)\n",
    "sns.boxplot(data=df,y='Flavanoids')\n",
    "\n",
    "plt.subplot(4,4,8)\n",
    "sns.boxplot(data=df,y='Nonflavanoid_Phenols')\n",
    "\n",
    "plt.subplot(4,4,9)\n",
    "sns.boxplot(data=df,y='Proanthocyanins')\n",
    "\n",
    "plt.subplot(4,4,10)\n",
    "sns.boxplot(data=df,y='Color_Intensity')\n",
    "\n",
    "plt.subplot(4,4,11)\n",
    "sns.boxplot(data=df,y='Hue')\n",
    "\n",
    "plt.subplot(4,4,12)\n",
    "sns.boxplot(data=df,y='OD280')\n",
    "\n",
    "plt.subplot(4,4,13)\n",
    "sns.boxplot(data=df,y='Proline');"
   ]
  },
  {
   "cell_type": "code",
   "execution_count": 12,
   "id": "69030a8f",
   "metadata": {},
   "outputs": [],
   "source": [
    "# OUTLIER HANDLING METHOD"
   ]
  },
  {
   "cell_type": "code",
   "execution_count": 13,
   "id": "d6ffa1fa",
   "metadata": {},
   "outputs": [],
   "source": [
    "\n",
    "list1=[ 'Malic_Acid', 'Ash', 'Ash_Alcanity', 'Magnesium','Proanthocyanins', 'Color_Intensity', 'Hue']\n",
    "\n",
    "Q1=np.percentile(df['Malic_Acid'],25,interpolation='midpoint')\n",
    "Q2=np.percentile(df['Malic_Acid'],50,interpolation='midpoint')\n",
    "Q3=np.percentile(df['Malic_Acid'],75,interpolation='midpoint')"
   ]
  },
  {
   "cell_type": "code",
   "execution_count": 14,
   "id": "05fad991",
   "metadata": {},
   "outputs": [
    {
     "name": "stdout",
     "output_type": "stream",
     "text": [
      "1.605\n",
      "1.8650000000000002\n",
      "3.065\n"
     ]
    }
   ],
   "source": [
    "\n",
    "print(Q1)\n",
    "print(Q2)\n",
    "print(Q3)"
   ]
  },
  {
   "cell_type": "code",
   "execution_count": 15,
   "id": "6264dd73",
   "metadata": {},
   "outputs": [
    {
     "name": "stdout",
     "output_type": "stream",
     "text": [
      "1.46\n"
     ]
    }
   ],
   "source": [
    "IQR=Q3-Q1\n",
    "print(IQR)"
   ]
  },
  {
   "cell_type": "code",
   "execution_count": 16,
   "id": "ba25901f",
   "metadata": {},
   "outputs": [
    {
     "name": "stdout",
     "output_type": "stream",
     "text": [
      "-0.585\n",
      "5.255\n"
     ]
    }
   ],
   "source": [
    "upper_limit=Q3+1.5*IQR\n",
    "lower_limit=Q1-1.5*IQR\n",
    "print(lower_limit)\n",
    "print(upper_limit)"
   ]
  },
  {
   "cell_type": "code",
   "execution_count": 18,
   "id": "18195770",
   "metadata": {},
   "outputs": [],
   "source": [
    "outlier=[]\n",
    "for x in df['Malic_Acid']:\n",
    "  if((x>upper_limit) or (x<lower_limit)):\n",
    "    outlier.append(x)\n"
   ]
  },
  {
   "cell_type": "code",
   "execution_count": 19,
   "id": "2d2568ea",
   "metadata": {},
   "outputs": [
    {
     "data": {
      "text/plain": [
       "[5.8, 5.51, 5.65]"
      ]
     },
     "execution_count": 19,
     "metadata": {},
     "output_type": "execute_result"
    }
   ],
   "source": [
    "  outlier"
   ]
  },
  {
   "cell_type": "code",
   "execution_count": 20,
   "id": "8434f4c3",
   "metadata": {},
   "outputs": [],
   "source": [
    "#removing outliers\n",
    "ind_Malic_Acid=df['Malic_Acid']>upper_limit"
   ]
  },
  {
   "cell_type": "code",
   "execution_count": 21,
   "id": "9ac69741",
   "metadata": {},
   "outputs": [
    {
     "data": {
      "text/html": [
       "<div>\n",
       "<style scoped>\n",
       "    .dataframe tbody tr th:only-of-type {\n",
       "        vertical-align: middle;\n",
       "    }\n",
       "\n",
       "    .dataframe tbody tr th {\n",
       "        vertical-align: top;\n",
       "    }\n",
       "\n",
       "    .dataframe thead th {\n",
       "        text-align: right;\n",
       "    }\n",
       "</style>\n",
       "<table border=\"1\" class=\"dataframe\">\n",
       "  <thead>\n",
       "    <tr style=\"text-align: right;\">\n",
       "      <th></th>\n",
       "      <th>Alcohol</th>\n",
       "      <th>Malic_Acid</th>\n",
       "      <th>Ash</th>\n",
       "      <th>Ash_Alcanity</th>\n",
       "      <th>Magnesium</th>\n",
       "      <th>Total_Phenols</th>\n",
       "      <th>Flavanoids</th>\n",
       "      <th>Nonflavanoid_Phenols</th>\n",
       "      <th>Proanthocyanins</th>\n",
       "      <th>Color_Intensity</th>\n",
       "      <th>Hue</th>\n",
       "      <th>OD280</th>\n",
       "      <th>Proline</th>\n",
       "    </tr>\n",
       "  </thead>\n",
       "  <tbody>\n",
       "    <tr>\n",
       "      <th>123</th>\n",
       "      <td>13.05</td>\n",
       "      <td>5.80</td>\n",
       "      <td>2.13</td>\n",
       "      <td>21.5</td>\n",
       "      <td>86</td>\n",
       "      <td>2.62</td>\n",
       "      <td>2.65</td>\n",
       "      <td>0.30</td>\n",
       "      <td>2.01</td>\n",
       "      <td>2.6</td>\n",
       "      <td>0.73</td>\n",
       "      <td>3.10</td>\n",
       "      <td>380</td>\n",
       "    </tr>\n",
       "    <tr>\n",
       "      <th>137</th>\n",
       "      <td>12.53</td>\n",
       "      <td>5.51</td>\n",
       "      <td>2.64</td>\n",
       "      <td>25.0</td>\n",
       "      <td>96</td>\n",
       "      <td>1.79</td>\n",
       "      <td>0.60</td>\n",
       "      <td>0.63</td>\n",
       "      <td>1.10</td>\n",
       "      <td>5.0</td>\n",
       "      <td>0.82</td>\n",
       "      <td>1.69</td>\n",
       "      <td>515</td>\n",
       "    </tr>\n",
       "    <tr>\n",
       "      <th>173</th>\n",
       "      <td>13.71</td>\n",
       "      <td>5.65</td>\n",
       "      <td>2.45</td>\n",
       "      <td>20.5</td>\n",
       "      <td>95</td>\n",
       "      <td>1.68</td>\n",
       "      <td>0.61</td>\n",
       "      <td>0.52</td>\n",
       "      <td>1.06</td>\n",
       "      <td>7.7</td>\n",
       "      <td>0.64</td>\n",
       "      <td>1.74</td>\n",
       "      <td>740</td>\n",
       "    </tr>\n",
       "  </tbody>\n",
       "</table>\n",
       "</div>"
      ],
      "text/plain": [
       "     Alcohol  Malic_Acid   Ash  Ash_Alcanity  Magnesium  Total_Phenols  \\\n",
       "123    13.05        5.80  2.13          21.5         86           2.62   \n",
       "137    12.53        5.51  2.64          25.0         96           1.79   \n",
       "173    13.71        5.65  2.45          20.5         95           1.68   \n",
       "\n",
       "     Flavanoids  Nonflavanoid_Phenols  Proanthocyanins  Color_Intensity   Hue  \\\n",
       "123        2.65                  0.30             2.01              2.6  0.73   \n",
       "137        0.60                  0.63             1.10              5.0  0.82   \n",
       "173        0.61                  0.52             1.06              7.7  0.64   \n",
       "\n",
       "     OD280  Proline  \n",
       "123   3.10      380  \n",
       "137   1.69      515  \n",
       "173   1.74      740  "
      ]
     },
     "execution_count": 21,
     "metadata": {},
     "output_type": "execute_result"
    }
   ],
   "source": [
    "df.loc[ind_Malic_Acid]"
   ]
  },
  {
   "cell_type": "code",
   "execution_count": 22,
   "id": "74059165",
   "metadata": {},
   "outputs": [
    {
     "data": {
      "text/plain": [
       "Int64Index([123, 137, 173], dtype='int64')"
      ]
     },
     "execution_count": 22,
     "metadata": {},
     "output_type": "execute_result"
    }
   ],
   "source": [
    "df.loc[ind_Malic_Acid].index"
   ]
  },
  {
   "cell_type": "code",
   "execution_count": 23,
   "id": "211027eb",
   "metadata": {},
   "outputs": [],
   "source": [
    "list1=[ 'Malic_Acid', 'Ash', 'Ash_Alcanity', 'Magnesium','Proanthocyanins', 'Color_Intensity', 'Hue']\n",
    "\n",
    "Q1_Ash=np.percentile(df['Ash'],25,interpolation='midpoint')\n",
    "Q2_Ash=np.percentile(df['Ash'],50,interpolation='midpoint')\n",
    "Q3_Ash=np.percentile(df['Ash'],75,interpolation='midpoint')\n",
    "\n",
    "Q1_Ash_Alcanity=np.percentile(df['Ash_Alcanity'],25,interpolation='midpoint')\n",
    "Q2_Ash_Alcanity=np.percentile(df['Ash_Alcanity'],50,interpolation='midpoint')\n",
    "Q3_Ash_Alcanity=np.percentile(df['Ash_Alcanity'],75,interpolation='midpoint')\n",
    "\n",
    "Q1_Magnesium=np.percentile(df['Magnesium'],25,interpolation='midpoint')\n",
    "Q2_Magnesium=np.percentile(df['Magnesium'],50,interpolation='midpoint')\n",
    "Q3_Magnesium=np.percentile(df['Magnesium'],75,interpolation='midpoint')\n",
    "\n",
    "Q1_Proanthocyanins=np.percentile(df['Proanthocyanins'],25,interpolation='midpoint')\n",
    "Q2_Proanthocyanins=np.percentile(df['Proanthocyanins'],50,interpolation='midpoint')\n",
    "Q3_Proanthocyanins=np.percentile(df['Proanthocyanins'],75,interpolation='midpoint')\n",
    "\n",
    "Q1_Color_Intensity=np.percentile(df['Color_Intensity'],25,interpolation='midpoint')\n",
    "Q2_Color_Intensity=np.percentile(df['Color_Intensity'],50,interpolation='midpoint')\n",
    "Q3_Color_Intensity=np.percentile(df['Color_Intensity'],75,interpolation='midpoint')\n",
    "\n",
    "Q1_Hue=np.percentile(df['Hue'],25,interpolation='midpoint')\n",
    "Q2_Hue=np.percentile(df['Hue'],50,interpolation='midpoint')\n",
    "Q3_Hue=np.percentile(df['Hue'],75,interpolation='midpoint')"
   ]
  },
  {
   "cell_type": "code",
   "execution_count": 24,
   "id": "b3b09a21",
   "metadata": {},
   "outputs": [
    {
     "name": "stdout",
     "output_type": "stream",
     "text": [
      "Q1_Ash= 2.21\n",
      "Q2_Ash= 2.36\n",
      "Q3_Ash= 2.5549999999999997\n",
      "\n",
      "\n",
      "Q1_Ash_Alcanity= 17.2\n",
      "Q2_Ash_Alcanity= 19.5\n",
      "Q3_Ash_Alcanity= 21.5\n",
      "\n",
      "\n",
      "Q1_Magnesium= 88.0\n",
      "Q2_Magnesium= 98.0\n",
      "Q3_Magnesium= 107.0\n",
      "\n",
      "\n",
      "Q1_Proanthocyanins= 1.25\n",
      "Q2_Proanthocyanins= 1.5550000000000002\n",
      "Q3_Proanthocyanins= 1.95\n",
      "\n",
      "\n",
      "Q1_Color_Intensity= 3.23\n",
      "Q2_Color_Intensity= 4.6899999999999995\n",
      "Q3_Color_Intensity= 6.2\n",
      "\n",
      "\n",
      "Q1_Hue= 0.785\n",
      "Q2_Hue= 0.785\n",
      "Q3_Hue= 0.785\n"
     ]
    }
   ],
   "source": [
    "\n",
    "print('Q1_Ash=',Q1_Ash)\n",
    "print('Q2_Ash=',Q2_Ash)\n",
    "print('Q3_Ash=',Q3_Ash)\n",
    "print('\\n')\n",
    "print('Q1_Ash_Alcanity=',Q1_Ash_Alcanity)\n",
    "print('Q2_Ash_Alcanity=',Q2_Ash_Alcanity)\n",
    "print('Q3_Ash_Alcanity=',Q3_Ash_Alcanity)\n",
    "print('\\n')\n",
    "print('Q1_Magnesium=',Q1_Magnesium)\n",
    "print('Q2_Magnesium=',Q2_Magnesium)\n",
    "print('Q3_Magnesium=',Q3_Magnesium)\n",
    "print('\\n')\n",
    "print('Q1_Proanthocyanins=',Q1_Proanthocyanins)\n",
    "print('Q2_Proanthocyanins=',Q2_Proanthocyanins)\n",
    "print('Q3_Proanthocyanins=',Q3_Proanthocyanins)\n",
    "print('\\n')\n",
    "print('Q1_Color_Intensity=',Q1_Color_Intensity)\n",
    "print('Q2_Color_Intensity=',Q2_Color_Intensity)\n",
    "print('Q3_Color_Intensity=',Q3_Color_Intensity)\n",
    "print('\\n')\n",
    "print('Q1_Hue=',Q1_Hue)\n",
    "print('Q2_Hue=',Q1_Hue)\n",
    "print('Q3_Hue=',Q1_Hue)"
   ]
  },
  {
   "cell_type": "code",
   "execution_count": 25,
   "id": "91ca9773",
   "metadata": {},
   "outputs": [
    {
     "name": "stdout",
     "output_type": "stream",
     "text": [
      "IQR_Ash= 0.34499999999999975\n",
      "\n",
      "\n",
      "IQR_Ash_Alcanity= 4.300000000000001\n",
      "\n",
      "\n",
      "IQR_Magnesium= 19.0\n",
      "\n",
      "\n",
      "IQR_Proanthocyanins= 0.7\n",
      "\n",
      "\n",
      "IQR_Color_Intensity= 2.97\n",
      "\n",
      "\n",
      "IQR_Hue= 0.3350000000000001\n",
      "\n",
      "\n"
     ]
    }
   ],
   "source": [
    "IQR_Ash=Q3_Ash-Q1_Ash\n",
    "print('IQR_Ash=',IQR_Ash)\n",
    "print('\\n')\n",
    "IQR_Ash_Alcanity=Q3_Ash_Alcanity-Q1_Ash_Alcanity\n",
    "print('IQR_Ash_Alcanity=',IQR_Ash_Alcanity)\n",
    "print('\\n')\n",
    "IQR_Magnesium=Q3_Magnesium-Q1_Magnesium\n",
    "print('IQR_Magnesium=',IQR_Magnesium)\n",
    "print('\\n')\n",
    "IQR_Proanthocyanins=Q3_Proanthocyanins-Q1_Proanthocyanins\n",
    "print('IQR_Proanthocyanins=',IQR_Proanthocyanins)\n",
    "print('\\n')\n",
    "IQR_Color_Intensity=Q3_Color_Intensity-Q1_Color_Intensity\n",
    "print('IQR_Color_Intensity=',IQR_Color_Intensity)\n",
    "print('\\n')\n",
    "IQR_Hue=Q3_Hue-Q1_Hue\n",
    "print('IQR_Hue=',IQR_Hue)\n",
    "print('\\n')"
   ]
  },
  {
   "cell_type": "code",
   "execution_count": 26,
   "id": "35c1b2a4",
   "metadata": {},
   "outputs": [
    {
     "name": "stdout",
     "output_type": "stream",
     "text": [
      "lower_limit_Ash= 1.6925000000000003\n",
      "upper_limit_Ash= 3.0724999999999993\n",
      "\n",
      "\n",
      "lower_limit_Ash_Alcanity= 10.749999999999998\n",
      "upper_limit_Ash_Alcanity= 27.950000000000003\n",
      "\n",
      "\n",
      "lower_limit_Magnesium= 59.5\n",
      "upper_limit_Magnesium= 135.5\n",
      "\n",
      "\n",
      "lower_limit_Proanthocyanins= 0.20000000000000018\n",
      "upper_limit_Proanthocyanins= 3.0\n",
      "\n",
      "\n",
      "lower_limit_Color_Intensity= -1.225\n",
      "upper_limit_Color_Intensity= 10.655000000000001\n",
      "\n",
      "\n",
      "lower_limit_Hue= 0.28249999999999986\n",
      "upper_limit_Hue= 1.6225000000000003\n",
      "\n",
      "\n"
     ]
    }
   ],
   "source": [
    "\n",
    "\n",
    "upper_limit_Ash=Q3_Ash+1.5*IQR_Ash\n",
    "lower_limit_Ash=Q1_Ash-1.5*IQR_Ash\n",
    "print('lower_limit_Ash=',lower_limit_Ash)\n",
    "print('upper_limit_Ash=',upper_limit_Ash)\n",
    "print('\\n')\n",
    "upper_limit_Ash_Alcanity=Q3_Ash_Alcanity+1.5*IQR_Ash_Alcanity\n",
    "lower_limit_Ash_Alcanity=Q1_Ash_Alcanity-1.5*IQR_Ash_Alcanity\n",
    "print('lower_limit_Ash_Alcanity=',lower_limit_Ash_Alcanity)\n",
    "print('upper_limit_Ash_Alcanity=',upper_limit_Ash_Alcanity)\n",
    "print('\\n')\n",
    "upper_limit_Magnesium=Q3_Magnesium+1.5*IQR_Magnesium\n",
    "lower_limit_Magnesium=Q1_Magnesium-1.5*IQR_Magnesium\n",
    "print('lower_limit_Magnesium=',lower_limit_Magnesium)\n",
    "print('upper_limit_Magnesium=',upper_limit_Magnesium)\n",
    "print('\\n')\n",
    "upper_limit_Proanthocyanins=Q3_Proanthocyanins+1.5*IQR_Proanthocyanins\n",
    "lower_limit_Proanthocyanins=Q1_Proanthocyanins-1.5*IQR_Proanthocyanins\n",
    "print('lower_limit_Proanthocyanins=',lower_limit_Proanthocyanins)\n",
    "print('upper_limit_Proanthocyanins=',upper_limit_Proanthocyanins)\n",
    "print('\\n')\n",
    "upper_limit_Color_Intensity=Q3_Color_Intensity+1.5*IQR_Color_Intensity\n",
    "lower_limit_Color_Intensity=Q1_Color_Intensity-1.5*IQR_Color_Intensity\n",
    "print('lower_limit_Color_Intensity=',lower_limit_Color_Intensity)\n",
    "print('upper_limit_Color_Intensity=',upper_limit_Color_Intensity)\n",
    "print('\\n')\n",
    "upper_limit_Hue=Q3_Hue+1.5*IQR_Hue\n",
    "lower_limit_Hue=Q1_Hue-1.5*IQR_Hue\n",
    "print('lower_limit_Hue=',lower_limit_Hue)\n",
    "print('upper_limit_Hue=',upper_limit_Hue)\n",
    "print('\\n')"
   ]
  },
  {
   "cell_type": "code",
   "execution_count": 27,
   "id": "bc1253da",
   "metadata": {},
   "outputs": [],
   "source": [
    "outlier_Ash=[]\n",
    "for x in df['Ash']:\n",
    "  if((x>upper_limit_Ash) or  (x<lower_limit)):\n",
    "    outlier.append(x)"
   ]
  },
  {
   "cell_type": "code",
   "execution_count": 28,
   "id": "ea7a4c7b",
   "metadata": {},
   "outputs": [
    {
     "data": {
      "text/plain": [
       "[5.8, 5.51, 5.65, 3.22, 3.23]"
      ]
     },
     "execution_count": 28,
     "metadata": {},
     "output_type": "execute_result"
    }
   ],
   "source": [
    " outlier"
   ]
  },
  {
   "cell_type": "code",
   "execution_count": 30,
   "id": "20bd626e",
   "metadata": {},
   "outputs": [],
   "source": [
    "outlier_Proanthocyanins=[]\n",
    "for x in df['Proanthocyanins']:\n",
    "  if((x>upper_limit_Proanthocyanins) or  (x<lower_limit)):\n",
    "    outlier.append(x)"
   ]
  },
  {
   "cell_type": "code",
   "execution_count": 31,
   "id": "154b70e9",
   "metadata": {},
   "outputs": [
    {
     "data": {
      "text/plain": [
       "[5.8, 5.51, 5.65, 3.22, 3.23, 3.28, 3.58, 3.28, 3.58]"
      ]
     },
     "execution_count": 31,
     "metadata": {},
     "output_type": "execute_result"
    }
   ],
   "source": [
    "outlier"
   ]
  },
  {
   "cell_type": "code",
   "execution_count": 32,
   "id": "2f8409d7",
   "metadata": {},
   "outputs": [],
   "source": [
    "outlier_Ash_Alcanity=[]\n",
    "for x in df['Ash_Alcanity']:\n",
    "  if((x>upper_limit_Ash_Alcanity) or  (x<lower_limit)):\n",
    "    outlier.append(x)"
   ]
  },
  {
   "cell_type": "code",
   "execution_count": 33,
   "id": "d4191f73",
   "metadata": {},
   "outputs": [
    {
     "data": {
      "text/plain": [
       "[5.8, 5.51, 5.65, 3.22, 3.23, 3.28, 3.58, 3.28, 3.58, 30.0, 28.5, 28.5]"
      ]
     },
     "execution_count": 33,
     "metadata": {},
     "output_type": "execute_result"
    }
   ],
   "source": [
    "outlier"
   ]
  },
  {
   "cell_type": "code",
   "execution_count": 35,
   "id": "8ca43aa3",
   "metadata": {},
   "outputs": [],
   "source": [
    "outlier_ind_Magnesium=[]\n",
    "for x in df['Magnesium']:\n",
    "  if((x>upper_limit_Magnesium) or  (x<lower_limit)):\n",
    "    outlier.append(x)"
   ]
  },
  {
   "cell_type": "code",
   "execution_count": 36,
   "id": "ef65e9be",
   "metadata": {},
   "outputs": [
    {
     "data": {
      "text/plain": [
       "[5.8,\n",
       " 5.51,\n",
       " 5.65,\n",
       " 3.22,\n",
       " 3.23,\n",
       " 3.28,\n",
       " 3.58,\n",
       " 3.28,\n",
       " 3.58,\n",
       " 30.0,\n",
       " 28.5,\n",
       " 28.5,\n",
       " 151,\n",
       " 139,\n",
       " 136,\n",
       " 162]"
      ]
     },
     "execution_count": 36,
     "metadata": {},
     "output_type": "execute_result"
    }
   ],
   "source": [
    "outlier"
   ]
  },
  {
   "cell_type": "code",
   "execution_count": 37,
   "id": "a83ad4f8",
   "metadata": {},
   "outputs": [],
   "source": [
    "outlier_Color_Intensity=[]\n",
    "for x in df['Color_Intensity']:\n",
    "  if((x>upper_limit_Color_Intensity) or  (x<lower_limit)):\n",
    "    outlier.append(x)"
   ]
  },
  {
   "cell_type": "code",
   "execution_count": 38,
   "id": "8937c13e",
   "metadata": {},
   "outputs": [
    {
     "data": {
      "text/plain": [
       "[5.8,\n",
       " 5.51,\n",
       " 5.65,\n",
       " 3.22,\n",
       " 3.23,\n",
       " 3.28,\n",
       " 3.58,\n",
       " 3.28,\n",
       " 3.58,\n",
       " 30.0,\n",
       " 28.5,\n",
       " 28.5,\n",
       " 151,\n",
       " 139,\n",
       " 136,\n",
       " 162,\n",
       " 10.8,\n",
       " 13.0,\n",
       " 11.75,\n",
       " 10.68]"
      ]
     },
     "execution_count": 38,
     "metadata": {},
     "output_type": "execute_result"
    }
   ],
   "source": [
    "outlier"
   ]
  },
  {
   "cell_type": "code",
   "execution_count": 41,
   "id": "762dd985",
   "metadata": {},
   "outputs": [],
   "source": [
    "outlier_Hue=[]\n",
    "for x in df['Hue']:\n",
    "  if((x>upper_limit_Hue) or  (x<lower_limit)):\n",
    "    outlier.append(x)"
   ]
  },
  {
   "cell_type": "code",
   "execution_count": 42,
   "id": "1b1da5e5",
   "metadata": {},
   "outputs": [
    {
     "data": {
      "text/plain": [
       "[1.71]"
      ]
     },
     "execution_count": 42,
     "metadata": {},
     "output_type": "execute_result"
    }
   ],
   "source": [
    "outlier"
   ]
  },
  {
   "cell_type": "code",
   "execution_count": 56,
   "id": "099d7b2e",
   "metadata": {},
   "outputs": [],
   "source": [
    "\n",
    "ind_Ash = df['Ash']>upper_limit_Ash"
   ]
  },
  {
   "cell_type": "code",
   "execution_count": 57,
   "id": "977f28e7",
   "metadata": {},
   "outputs": [
    {
     "data": {
      "text/plain": [
       "Int64Index([25, 121], dtype='int64')"
      ]
     },
     "execution_count": 57,
     "metadata": {},
     "output_type": "execute_result"
    }
   ],
   "source": [
    "df.loc[ind_Ash].index"
   ]
  },
  {
   "cell_type": "code",
   "execution_count": 54,
   "id": "5e0e617d",
   "metadata": {},
   "outputs": [],
   "source": [
    "ind_Proanthocyanins=df['Proanthocyanins']>upper_limit_Proanthocyanins"
   ]
  },
  {
   "cell_type": "code",
   "execution_count": 58,
   "id": "441a3c46",
   "metadata": {},
   "outputs": [
    {
     "data": {
      "text/html": [
       "<div>\n",
       "<style scoped>\n",
       "    .dataframe tbody tr th:only-of-type {\n",
       "        vertical-align: middle;\n",
       "    }\n",
       "\n",
       "    .dataframe tbody tr th {\n",
       "        vertical-align: top;\n",
       "    }\n",
       "\n",
       "    .dataframe thead th {\n",
       "        text-align: right;\n",
       "    }\n",
       "</style>\n",
       "<table border=\"1\" class=\"dataframe\">\n",
       "  <thead>\n",
       "    <tr style=\"text-align: right;\">\n",
       "      <th></th>\n",
       "      <th>Alcohol</th>\n",
       "      <th>Malic_Acid</th>\n",
       "      <th>Ash</th>\n",
       "      <th>Ash_Alcanity</th>\n",
       "      <th>Magnesium</th>\n",
       "      <th>Total_Phenols</th>\n",
       "      <th>Flavanoids</th>\n",
       "      <th>Nonflavanoid_Phenols</th>\n",
       "      <th>Proanthocyanins</th>\n",
       "      <th>Color_Intensity</th>\n",
       "      <th>Hue</th>\n",
       "      <th>OD280</th>\n",
       "      <th>Proline</th>\n",
       "    </tr>\n",
       "  </thead>\n",
       "  <tbody>\n",
       "    <tr>\n",
       "      <th>95</th>\n",
       "      <td>12.47</td>\n",
       "      <td>1.52</td>\n",
       "      <td>2.20</td>\n",
       "      <td>19.0</td>\n",
       "      <td>162</td>\n",
       "      <td>2.50</td>\n",
       "      <td>2.27</td>\n",
       "      <td>0.32</td>\n",
       "      <td>3.28</td>\n",
       "      <td>2.6</td>\n",
       "      <td>1.16</td>\n",
       "      <td>2.63</td>\n",
       "      <td>937</td>\n",
       "    </tr>\n",
       "    <tr>\n",
       "      <th>110</th>\n",
       "      <td>11.46</td>\n",
       "      <td>3.74</td>\n",
       "      <td>1.82</td>\n",
       "      <td>19.5</td>\n",
       "      <td>107</td>\n",
       "      <td>3.18</td>\n",
       "      <td>2.58</td>\n",
       "      <td>0.24</td>\n",
       "      <td>3.58</td>\n",
       "      <td>2.9</td>\n",
       "      <td>0.75</td>\n",
       "      <td>2.81</td>\n",
       "      <td>562</td>\n",
       "    </tr>\n",
       "  </tbody>\n",
       "</table>\n",
       "</div>"
      ],
      "text/plain": [
       "     Alcohol  Malic_Acid   Ash  Ash_Alcanity  Magnesium  Total_Phenols  \\\n",
       "95     12.47        1.52  2.20          19.0        162           2.50   \n",
       "110    11.46        3.74  1.82          19.5        107           3.18   \n",
       "\n",
       "     Flavanoids  Nonflavanoid_Phenols  Proanthocyanins  Color_Intensity   Hue  \\\n",
       "95         2.27                  0.32             3.28              2.6  1.16   \n",
       "110        2.58                  0.24             3.58              2.9  0.75   \n",
       "\n",
       "     OD280  Proline  \n",
       "95    2.63      937  \n",
       "110   2.81      562  "
      ]
     },
     "execution_count": 58,
     "metadata": {},
     "output_type": "execute_result"
    }
   ],
   "source": [
    "df.loc[ind_Proanthocyanins]"
   ]
  },
  {
   "cell_type": "code",
   "execution_count": 59,
   "id": "c5d230c6",
   "metadata": {},
   "outputs": [
    {
     "data": {
      "text/plain": [
       "Int64Index([95, 110], dtype='int64')"
      ]
     },
     "execution_count": 59,
     "metadata": {},
     "output_type": "execute_result"
    }
   ],
   "source": [
    "df.loc[ind_Proanthocyanins].index"
   ]
  },
  {
   "cell_type": "code",
   "execution_count": 62,
   "id": "1c7bf743",
   "metadata": {},
   "outputs": [],
   "source": [
    "ind_Ash_Alcanity = df['Ash_Alcanity']>upper_limit_Ash_Alcanity"
   ]
  },
  {
   "cell_type": "code",
   "execution_count": 63,
   "id": "3d4608f1",
   "metadata": {},
   "outputs": [
    {
     "data": {
      "text/html": [
       "<div>\n",
       "<style scoped>\n",
       "    .dataframe tbody tr th:only-of-type {\n",
       "        vertical-align: middle;\n",
       "    }\n",
       "\n",
       "    .dataframe tbody tr th {\n",
       "        vertical-align: top;\n",
       "    }\n",
       "\n",
       "    .dataframe thead th {\n",
       "        text-align: right;\n",
       "    }\n",
       "</style>\n",
       "<table border=\"1\" class=\"dataframe\">\n",
       "  <thead>\n",
       "    <tr style=\"text-align: right;\">\n",
       "      <th></th>\n",
       "      <th>Alcohol</th>\n",
       "      <th>Malic_Acid</th>\n",
       "      <th>Ash</th>\n",
       "      <th>Ash_Alcanity</th>\n",
       "      <th>Magnesium</th>\n",
       "      <th>Total_Phenols</th>\n",
       "      <th>Flavanoids</th>\n",
       "      <th>Nonflavanoid_Phenols</th>\n",
       "      <th>Proanthocyanins</th>\n",
       "      <th>Color_Intensity</th>\n",
       "      <th>Hue</th>\n",
       "      <th>OD280</th>\n",
       "      <th>Proline</th>\n",
       "    </tr>\n",
       "  </thead>\n",
       "  <tbody>\n",
       "    <tr>\n",
       "      <th>73</th>\n",
       "      <td>12.99</td>\n",
       "      <td>1.67</td>\n",
       "      <td>2.60</td>\n",
       "      <td>30.0</td>\n",
       "      <td>139</td>\n",
       "      <td>3.30</td>\n",
       "      <td>2.89</td>\n",
       "      <td>0.21</td>\n",
       "      <td>1.96</td>\n",
       "      <td>3.35</td>\n",
       "      <td>1.31</td>\n",
       "      <td>3.50</td>\n",
       "      <td>985</td>\n",
       "    </tr>\n",
       "    <tr>\n",
       "      <th>121</th>\n",
       "      <td>11.56</td>\n",
       "      <td>2.05</td>\n",
       "      <td>3.23</td>\n",
       "      <td>28.5</td>\n",
       "      <td>119</td>\n",
       "      <td>3.18</td>\n",
       "      <td>5.08</td>\n",
       "      <td>0.47</td>\n",
       "      <td>1.87</td>\n",
       "      <td>6.00</td>\n",
       "      <td>0.93</td>\n",
       "      <td>3.69</td>\n",
       "      <td>465</td>\n",
       "    </tr>\n",
       "    <tr>\n",
       "      <th>127</th>\n",
       "      <td>11.79</td>\n",
       "      <td>2.13</td>\n",
       "      <td>2.78</td>\n",
       "      <td>28.5</td>\n",
       "      <td>92</td>\n",
       "      <td>2.13</td>\n",
       "      <td>2.24</td>\n",
       "      <td>0.58</td>\n",
       "      <td>1.76</td>\n",
       "      <td>3.00</td>\n",
       "      <td>0.97</td>\n",
       "      <td>2.44</td>\n",
       "      <td>466</td>\n",
       "    </tr>\n",
       "  </tbody>\n",
       "</table>\n",
       "</div>"
      ],
      "text/plain": [
       "     Alcohol  Malic_Acid   Ash  Ash_Alcanity  Magnesium  Total_Phenols  \\\n",
       "73     12.99        1.67  2.60          30.0        139           3.30   \n",
       "121    11.56        2.05  3.23          28.5        119           3.18   \n",
       "127    11.79        2.13  2.78          28.5         92           2.13   \n",
       "\n",
       "     Flavanoids  Nonflavanoid_Phenols  Proanthocyanins  Color_Intensity   Hue  \\\n",
       "73         2.89                  0.21             1.96             3.35  1.31   \n",
       "121        5.08                  0.47             1.87             6.00  0.93   \n",
       "127        2.24                  0.58             1.76             3.00  0.97   \n",
       "\n",
       "     OD280  Proline  \n",
       "73    3.50      985  \n",
       "121   3.69      465  \n",
       "127   2.44      466  "
      ]
     },
     "execution_count": 63,
     "metadata": {},
     "output_type": "execute_result"
    }
   ],
   "source": [
    "df.loc[ind_Ash_Alcanity]"
   ]
  },
  {
   "cell_type": "code",
   "execution_count": 64,
   "id": "b39dbe71",
   "metadata": {},
   "outputs": [
    {
     "data": {
      "text/plain": [
       "Int64Index([73, 121, 127], dtype='int64')"
      ]
     },
     "execution_count": 64,
     "metadata": {},
     "output_type": "execute_result"
    }
   ],
   "source": [
    "df.loc[ind_Ash_Alcanity].index"
   ]
  },
  {
   "cell_type": "code",
   "execution_count": 66,
   "id": "9b43cdac",
   "metadata": {},
   "outputs": [],
   "source": [
    "ind_Magnesium = df['Magnesium']>upper_limit_Magnesium"
   ]
  },
  {
   "cell_type": "code",
   "execution_count": 67,
   "id": "6539cb14",
   "metadata": {},
   "outputs": [
    {
     "data": {
      "text/html": [
       "<div>\n",
       "<style scoped>\n",
       "    .dataframe tbody tr th:only-of-type {\n",
       "        vertical-align: middle;\n",
       "    }\n",
       "\n",
       "    .dataframe tbody tr th {\n",
       "        vertical-align: top;\n",
       "    }\n",
       "\n",
       "    .dataframe thead th {\n",
       "        text-align: right;\n",
       "    }\n",
       "</style>\n",
       "<table border=\"1\" class=\"dataframe\">\n",
       "  <thead>\n",
       "    <tr style=\"text-align: right;\">\n",
       "      <th></th>\n",
       "      <th>Alcohol</th>\n",
       "      <th>Malic_Acid</th>\n",
       "      <th>Ash</th>\n",
       "      <th>Ash_Alcanity</th>\n",
       "      <th>Magnesium</th>\n",
       "      <th>Total_Phenols</th>\n",
       "      <th>Flavanoids</th>\n",
       "      <th>Nonflavanoid_Phenols</th>\n",
       "      <th>Proanthocyanins</th>\n",
       "      <th>Color_Intensity</th>\n",
       "      <th>Hue</th>\n",
       "      <th>OD280</th>\n",
       "      <th>Proline</th>\n",
       "    </tr>\n",
       "  </thead>\n",
       "  <tbody>\n",
       "    <tr>\n",
       "      <th>69</th>\n",
       "      <td>12.21</td>\n",
       "      <td>1.19</td>\n",
       "      <td>1.75</td>\n",
       "      <td>16.8</td>\n",
       "      <td>151</td>\n",
       "      <td>1.85</td>\n",
       "      <td>1.28</td>\n",
       "      <td>0.14</td>\n",
       "      <td>2.50</td>\n",
       "      <td>2.85</td>\n",
       "      <td>1.28</td>\n",
       "      <td>3.07</td>\n",
       "      <td>718</td>\n",
       "    </tr>\n",
       "    <tr>\n",
       "      <th>73</th>\n",
       "      <td>12.99</td>\n",
       "      <td>1.67</td>\n",
       "      <td>2.60</td>\n",
       "      <td>30.0</td>\n",
       "      <td>139</td>\n",
       "      <td>3.30</td>\n",
       "      <td>2.89</td>\n",
       "      <td>0.21</td>\n",
       "      <td>1.96</td>\n",
       "      <td>3.35</td>\n",
       "      <td>1.31</td>\n",
       "      <td>3.50</td>\n",
       "      <td>985</td>\n",
       "    </tr>\n",
       "    <tr>\n",
       "      <th>78</th>\n",
       "      <td>12.33</td>\n",
       "      <td>0.99</td>\n",
       "      <td>1.95</td>\n",
       "      <td>14.8</td>\n",
       "      <td>136</td>\n",
       "      <td>1.90</td>\n",
       "      <td>1.85</td>\n",
       "      <td>0.35</td>\n",
       "      <td>2.76</td>\n",
       "      <td>3.40</td>\n",
       "      <td>1.06</td>\n",
       "      <td>2.31</td>\n",
       "      <td>750</td>\n",
       "    </tr>\n",
       "    <tr>\n",
       "      <th>95</th>\n",
       "      <td>12.47</td>\n",
       "      <td>1.52</td>\n",
       "      <td>2.20</td>\n",
       "      <td>19.0</td>\n",
       "      <td>162</td>\n",
       "      <td>2.50</td>\n",
       "      <td>2.27</td>\n",
       "      <td>0.32</td>\n",
       "      <td>3.28</td>\n",
       "      <td>2.60</td>\n",
       "      <td>1.16</td>\n",
       "      <td>2.63</td>\n",
       "      <td>937</td>\n",
       "    </tr>\n",
       "  </tbody>\n",
       "</table>\n",
       "</div>"
      ],
      "text/plain": [
       "    Alcohol  Malic_Acid   Ash  Ash_Alcanity  Magnesium  Total_Phenols  \\\n",
       "69    12.21        1.19  1.75          16.8        151           1.85   \n",
       "73    12.99        1.67  2.60          30.0        139           3.30   \n",
       "78    12.33        0.99  1.95          14.8        136           1.90   \n",
       "95    12.47        1.52  2.20          19.0        162           2.50   \n",
       "\n",
       "    Flavanoids  Nonflavanoid_Phenols  Proanthocyanins  Color_Intensity   Hue  \\\n",
       "69        1.28                  0.14             2.50             2.85  1.28   \n",
       "73        2.89                  0.21             1.96             3.35  1.31   \n",
       "78        1.85                  0.35             2.76             3.40  1.06   \n",
       "95        2.27                  0.32             3.28             2.60  1.16   \n",
       "\n",
       "    OD280  Proline  \n",
       "69   3.07      718  \n",
       "73   3.50      985  \n",
       "78   2.31      750  \n",
       "95   2.63      937  "
      ]
     },
     "execution_count": 67,
     "metadata": {},
     "output_type": "execute_result"
    }
   ],
   "source": [
    "df.loc[ind_Magnesium]"
   ]
  },
  {
   "cell_type": "code",
   "execution_count": 68,
   "id": "5626fe64",
   "metadata": {},
   "outputs": [
    {
     "data": {
      "text/plain": [
       "Int64Index([69, 73, 78, 95], dtype='int64')"
      ]
     },
     "execution_count": 68,
     "metadata": {},
     "output_type": "execute_result"
    }
   ],
   "source": [
    "df.loc[ind_Magnesium].index"
   ]
  },
  {
   "cell_type": "code",
   "execution_count": 70,
   "id": "3733b1ee",
   "metadata": {},
   "outputs": [],
   "source": [
    "ind_Color_Intensity = df['Color_Intensity']>upper_limit_Color_Intensity"
   ]
  },
  {
   "cell_type": "code",
   "execution_count": 71,
   "id": "cfd346e1",
   "metadata": {},
   "outputs": [
    {
     "data": {
      "text/html": [
       "<div>\n",
       "<style scoped>\n",
       "    .dataframe tbody tr th:only-of-type {\n",
       "        vertical-align: middle;\n",
       "    }\n",
       "\n",
       "    .dataframe tbody tr th {\n",
       "        vertical-align: top;\n",
       "    }\n",
       "\n",
       "    .dataframe thead th {\n",
       "        text-align: right;\n",
       "    }\n",
       "</style>\n",
       "<table border=\"1\" class=\"dataframe\">\n",
       "  <thead>\n",
       "    <tr style=\"text-align: right;\">\n",
       "      <th></th>\n",
       "      <th>Alcohol</th>\n",
       "      <th>Malic_Acid</th>\n",
       "      <th>Ash</th>\n",
       "      <th>Ash_Alcanity</th>\n",
       "      <th>Magnesium</th>\n",
       "      <th>Total_Phenols</th>\n",
       "      <th>Flavanoids</th>\n",
       "      <th>Nonflavanoid_Phenols</th>\n",
       "      <th>Proanthocyanins</th>\n",
       "      <th>Color_Intensity</th>\n",
       "      <th>Hue</th>\n",
       "      <th>OD280</th>\n",
       "      <th>Proline</th>\n",
       "    </tr>\n",
       "  </thead>\n",
       "  <tbody>\n",
       "    <tr>\n",
       "      <th>151</th>\n",
       "      <td>12.79</td>\n",
       "      <td>2.67</td>\n",
       "      <td>2.48</td>\n",
       "      <td>22.0</td>\n",
       "      <td>112</td>\n",
       "      <td>1.48</td>\n",
       "      <td>1.36</td>\n",
       "      <td>0.24</td>\n",
       "      <td>1.26</td>\n",
       "      <td>10.80</td>\n",
       "      <td>0.48</td>\n",
       "      <td>1.47</td>\n",
       "      <td>480</td>\n",
       "    </tr>\n",
       "    <tr>\n",
       "      <th>158</th>\n",
       "      <td>14.34</td>\n",
       "      <td>1.68</td>\n",
       "      <td>2.70</td>\n",
       "      <td>25.0</td>\n",
       "      <td>98</td>\n",
       "      <td>2.80</td>\n",
       "      <td>1.31</td>\n",
       "      <td>0.53</td>\n",
       "      <td>2.70</td>\n",
       "      <td>13.00</td>\n",
       "      <td>0.57</td>\n",
       "      <td>1.96</td>\n",
       "      <td>660</td>\n",
       "    </tr>\n",
       "    <tr>\n",
       "      <th>159</th>\n",
       "      <td>13.48</td>\n",
       "      <td>1.67</td>\n",
       "      <td>2.64</td>\n",
       "      <td>22.5</td>\n",
       "      <td>89</td>\n",
       "      <td>2.60</td>\n",
       "      <td>1.10</td>\n",
       "      <td>0.52</td>\n",
       "      <td>2.29</td>\n",
       "      <td>11.75</td>\n",
       "      <td>0.57</td>\n",
       "      <td>1.78</td>\n",
       "      <td>620</td>\n",
       "    </tr>\n",
       "    <tr>\n",
       "      <th>166</th>\n",
       "      <td>13.45</td>\n",
       "      <td>3.70</td>\n",
       "      <td>2.60</td>\n",
       "      <td>23.0</td>\n",
       "      <td>111</td>\n",
       "      <td>1.70</td>\n",
       "      <td>0.92</td>\n",
       "      <td>0.43</td>\n",
       "      <td>1.46</td>\n",
       "      <td>10.68</td>\n",
       "      <td>0.85</td>\n",
       "      <td>1.56</td>\n",
       "      <td>695</td>\n",
       "    </tr>\n",
       "  </tbody>\n",
       "</table>\n",
       "</div>"
      ],
      "text/plain": [
       "     Alcohol  Malic_Acid   Ash  Ash_Alcanity  Magnesium  Total_Phenols  \\\n",
       "151    12.79        2.67  2.48          22.0        112           1.48   \n",
       "158    14.34        1.68  2.70          25.0         98           2.80   \n",
       "159    13.48        1.67  2.64          22.5         89           2.60   \n",
       "166    13.45        3.70  2.60          23.0        111           1.70   \n",
       "\n",
       "     Flavanoids  Nonflavanoid_Phenols  Proanthocyanins  Color_Intensity   Hue  \\\n",
       "151        1.36                  0.24             1.26            10.80  0.48   \n",
       "158        1.31                  0.53             2.70            13.00  0.57   \n",
       "159        1.10                  0.52             2.29            11.75  0.57   \n",
       "166        0.92                  0.43             1.46            10.68  0.85   \n",
       "\n",
       "     OD280  Proline  \n",
       "151   1.47      480  \n",
       "158   1.96      660  \n",
       "159   1.78      620  \n",
       "166   1.56      695  "
      ]
     },
     "execution_count": 71,
     "metadata": {},
     "output_type": "execute_result"
    }
   ],
   "source": [
    "df.loc[ind_Color_Intensity]"
   ]
  },
  {
   "cell_type": "code",
   "execution_count": 72,
   "id": "95c0691b",
   "metadata": {},
   "outputs": [
    {
     "data": {
      "text/plain": [
       "Int64Index([151, 158, 159, 166], dtype='int64')"
      ]
     },
     "execution_count": 72,
     "metadata": {},
     "output_type": "execute_result"
    }
   ],
   "source": [
    "df.loc[ind_Color_Intensity].index"
   ]
  },
  {
   "cell_type": "code",
   "execution_count": 73,
   "id": "40d3f35f",
   "metadata": {},
   "outputs": [],
   "source": [
    "ind_Hue = df['Hue']>upper_limit_Hue"
   ]
  },
  {
   "cell_type": "code",
   "execution_count": 74,
   "id": "75f99bf4",
   "metadata": {},
   "outputs": [
    {
     "data": {
      "text/html": [
       "<div>\n",
       "<style scoped>\n",
       "    .dataframe tbody tr th:only-of-type {\n",
       "        vertical-align: middle;\n",
       "    }\n",
       "\n",
       "    .dataframe tbody tr th {\n",
       "        vertical-align: top;\n",
       "    }\n",
       "\n",
       "    .dataframe thead th {\n",
       "        text-align: right;\n",
       "    }\n",
       "</style>\n",
       "<table border=\"1\" class=\"dataframe\">\n",
       "  <thead>\n",
       "    <tr style=\"text-align: right;\">\n",
       "      <th></th>\n",
       "      <th>Alcohol</th>\n",
       "      <th>Malic_Acid</th>\n",
       "      <th>Ash</th>\n",
       "      <th>Ash_Alcanity</th>\n",
       "      <th>Magnesium</th>\n",
       "      <th>Total_Phenols</th>\n",
       "      <th>Flavanoids</th>\n",
       "      <th>Nonflavanoid_Phenols</th>\n",
       "      <th>Proanthocyanins</th>\n",
       "      <th>Color_Intensity</th>\n",
       "      <th>Hue</th>\n",
       "      <th>OD280</th>\n",
       "      <th>Proline</th>\n",
       "    </tr>\n",
       "  </thead>\n",
       "  <tbody>\n",
       "    <tr>\n",
       "      <th>115</th>\n",
       "      <td>11.03</td>\n",
       "      <td>1.51</td>\n",
       "      <td>2.2</td>\n",
       "      <td>21.5</td>\n",
       "      <td>85</td>\n",
       "      <td>2.46</td>\n",
       "      <td>2.17</td>\n",
       "      <td>0.52</td>\n",
       "      <td>2.01</td>\n",
       "      <td>1.9</td>\n",
       "      <td>1.71</td>\n",
       "      <td>2.87</td>\n",
       "      <td>407</td>\n",
       "    </tr>\n",
       "  </tbody>\n",
       "</table>\n",
       "</div>"
      ],
      "text/plain": [
       "     Alcohol  Malic_Acid  Ash  Ash_Alcanity  Magnesium  Total_Phenols  \\\n",
       "115    11.03        1.51  2.2          21.5         85           2.46   \n",
       "\n",
       "     Flavanoids  Nonflavanoid_Phenols  Proanthocyanins  Color_Intensity   Hue  \\\n",
       "115        2.17                  0.52             2.01              1.9  1.71   \n",
       "\n",
       "     OD280  Proline  \n",
       "115   2.87      407  "
      ]
     },
     "execution_count": 74,
     "metadata": {},
     "output_type": "execute_result"
    }
   ],
   "source": [
    "df.loc[ind_Hue]"
   ]
  },
  {
   "cell_type": "code",
   "execution_count": 75,
   "id": "cde94c05",
   "metadata": {},
   "outputs": [
    {
     "data": {
      "text/plain": [
       "Int64Index([115], dtype='int64')"
      ]
     },
     "execution_count": 75,
     "metadata": {},
     "output_type": "execute_result"
    }
   ],
   "source": [
    "df.loc[ind_Hue].index"
   ]
  },
  {
   "cell_type": "code",
   "execution_count": 83,
   "id": "aca701b3",
   "metadata": {},
   "outputs": [],
   "source": [
    "df1 = df.drop([25, 121,95, 110,73, 121, 127,69, 73, 78, 95,151, 158, 159, 166,155])"
   ]
  },
  {
   "cell_type": "code",
   "execution_count": 84,
   "id": "7864519e",
   "metadata": {},
   "outputs": [],
   "source": [
    "#KMEANS CLUSTERING"
   ]
  },
  {
   "cell_type": "code",
   "execution_count": 85,
   "id": "c88a7946",
   "metadata": {},
   "outputs": [
    {
     "name": "stderr",
     "output_type": "stream",
     "text": [
      "C:\\Users\\SHAKIR\\anaconda3\\lib\\site-packages\\sklearn\\cluster\\_kmeans.py:1036: UserWarning: KMeans is known to have a memory leak on Windows with MKL, when there are less chunks than available threads. You can avoid it by setting the environment variable OMP_NUM_THREADS=1.\n",
      "  warnings.warn(\n"
     ]
    },
    {
     "data": {
      "text/plain": [
       "Text(0, 0.5, 'WCSS')"
      ]
     },
     "execution_count": 85,
     "metadata": {},
     "output_type": "execute_result"
    },
    {
     "data": {
      "image/png": "[encoded data removed]",
      "text/plain": [
       "<Figure size 640x480 with 1 Axes>"
      ]
     },
     "metadata": {},
     "output_type": "display_data"
    }
   ],
   "source": [
    "from sklearn.cluster import KMeans#importing kmeans from cluster \n",
    "wcss=[]#empty list to append wcss(within cluster sum of squares)\n",
    "\n",
    "#finding value for optimum number of clusters\n",
    "for i in range(1,11):\n",
    "  kmeans=KMeans(n_clusters=i,init='k-means++',random_state=42)#kmeans++ to avoid random intialization trap\n",
    "  kmeans.fit(df1)\n",
    "  wcss.append(kmeans.inertia_)#inertia_ used to find wcss\n",
    "#ploting number of clusters against wcss\n",
    "plt.plot(range(1,11),wcss)\n",
    "plt.title('The Elbow Method')\n",
    "plt.xlabel('Number of Clusters')\n",
    "plt.ylabel('WCSS')"
   ]
  },
  {
   "cell_type": "code",
   "execution_count": 86,
   "id": "1da687da",
   "metadata": {},
   "outputs": [],
   "source": [
    "kmeans=KMeans(n_clusters=2,init='k-means++',random_state=42)#kmeans++ to avoid random intialization trap\n",
    "y_kmeans=kmeans.fit_predict(df1)"
   ]
  },
  {
   "cell_type": "code",
   "execution_count": 87,
   "id": "e5210d33",
   "metadata": {},
   "outputs": [],
   "source": [
    "from sklearn.metrics import silhouette_score"
   ]
  },
  {
   "cell_type": "code",
   "execution_count": 88,
   "id": "fdc4462a",
   "metadata": {},
   "outputs": [],
   "source": [
    "sil_avg=silhouette_score(df1,y_kmeans)#calculating silhouette score for kmeans clustering"
   ]
  },
  {
   "cell_type": "code",
   "execution_count": 89,
   "id": "9bda6e7d",
   "metadata": {},
   "outputs": [
    {
     "data": {
      "text/plain": [
       "0.6633021284062001"
      ]
     },
     "execution_count": 89,
     "metadata": {},
     "output_type": "execute_result"
    }
   ],
   "source": [
    "sil_avg#silhouette score ,with no of cluster=2"
   ]
  },
  {
   "cell_type": "code",
   "execution_count": 90,
   "id": "007e42fb",
   "metadata": {},
   "outputs": [
    {
     "name": "stdout",
     "output_type": "stream",
     "text": [
      "[0.6633021284062001, 0.5747220456515887, 0.5590596863011206, 0.5579741713040928, 0.5765955631472071, 0.5758898860964295, 0.5617603995099454, 0.5611388010589935, 0.5364691106578816, 0.5419224941197849, 0.5358700956629698, 0.5363808334503847]\n"
     ]
    }
   ],
   "source": [
    "kmeans_sil_score = [] # empty list for appending silhouette scores\n",
    "for i in range(2,14):\n",
    "    kmeans=KMeans(n_clusters=i,init='k-means++',random_state=42)\n",
    "    y_kmeans=kmeans.fit_predict(df1)\n",
    "    sil_avg = silhouette_score(df1, y_kmeans)#calculating silhouettte score\n",
    "    kmeans_sil_score.append(sil_avg) \n",
    "\n",
    "print(kmeans_sil_score)"
   ]
  },
  {
   "cell_type": "code",
   "execution_count": 91,
   "id": "08a69771",
   "metadata": {},
   "outputs": [
    {
     "data": {
      "text/plain": [
       "Text(0, 0.5, 'Silhouette Score')"
      ]
     },
     "execution_count": 91,
     "metadata": {},
     "output_type": "execute_result"
    },
    {
     "data": {
      "image/png": "[encoded data removed]",
      "text/plain": [
       "<Figure size 640x480 with 1 Axes>"
      ]
     },
     "metadata": {},
     "output_type": "display_data"
    }
   ],
   "source": [
    "#ploting number of clusters against silhouette score\n",
    "plt.plot(range(2,14),kmeans_sil_score)\n",
    "plt.title('The Silhouette Score')\n",
    "plt.xlabel('Number of Clusters')\n",
    "plt.ylabel('Silhouette Score')"
   ]
  },
  {
   "cell_type": "markdown",
   "id": "51e9fb5a",
   "metadata": {},
   "source": [
    "From the above plotted graph of silhouette score vs no of clusters we can infer that maximum silhouette score is for no of clusters=2"
   ]
  },
  {
   "cell_type": "code",
   "execution_count": 92,
   "id": "91c44a6f",
   "metadata": {},
   "outputs": [],
   "source": [
    "#2. AGGLOMERATIVE HIERARCHIAL CLUSTERING"
   ]
  },
  {
   "cell_type": "code",
   "execution_count": 93,
   "id": "7fa75c99",
   "metadata": {},
   "outputs": [],
   "source": [
    "import scipy.cluster.hierarchy as sch"
   ]
  },
  {
   "cell_type": "code",
   "execution_count": 94,
   "id": "403bbdb1",
   "metadata": {},
   "outputs": [
    {
     "data": {
      "text/plain": [
       "Text(0, 0.5, 'Euclidean Distance')"
      ]
     },
     "execution_count": 94,
     "metadata": {},
     "output_type": "execute_result"
    },
    {
     "data": {
      "image/png": "[encoded data removed]",
      "text/plain": [
       "<Figure size 640x480 with 1 Axes>"
      ]
     },
     "metadata": {},
     "output_type": "display_data"
    }
   ],
   "source": [
    "dendrogram=sch.dendrogram(sch.linkage(df1,method='ward'))\n",
    "plt.title('Dendrogram')\n",
    "plt.xlabel('Alcohol Types')\n",
    "plt.ylabel('Euclidean Distance')"
   ]
  },
  {
   "cell_type": "raw",
   "id": "e371ddf4",
   "metadata": {},
   "source": [
    "From the above plotted dendrogram we can infer that the number of clusters is 2."
   ]
  },
  {
   "cell_type": "code",
   "execution_count": 95,
   "id": "156cbd0d",
   "metadata": {},
   "outputs": [],
   "source": [
    "from sklearn.cluster import AgglomerativeClustering\n",
    "     \n"
   ]
  },
  {
   "cell_type": "code",
   "execution_count": 96,
   "id": "667af5aa",
   "metadata": {},
   "outputs": [],
   "source": [
    "hc=AgglomerativeClustering(n_clusters=2,affinity='euclidean',linkage='ward')\n",
    "\n",
    "y_hc=hc.fit_predict(df1)"
   ]
  },
  {
   "cell_type": "code",
   "execution_count": 97,
   "id": "1df69e7b",
   "metadata": {},
   "outputs": [],
   "source": [
    "sil_avg2=silhouette_score(df1,y_hc)#calculating silhouette score"
   ]
  },
  {
   "cell_type": "code",
   "execution_count": 98,
   "id": "f5f0406c",
   "metadata": {},
   "outputs": [
    {
     "data": {
      "text/plain": [
       "0.6656688104061967"
      ]
     },
     "execution_count": 98,
     "metadata": {},
     "output_type": "execute_result"
    }
   ],
   "source": [
    "sil_avg2"
   ]
  },
  {
   "cell_type": "code",
   "execution_count": 99,
   "id": "7bf1dd34",
   "metadata": {},
   "outputs": [
    {
     "name": "stdout",
     "output_type": "stream",
     "text": [
      "[0.6656688104061967, 0.5409061578969029, 0.5453862012190008, 0.5225454922457017, 0.5319128549907557, 0.5383687307178913, 0.5239300615913749, 0.5228133681591034, 0.5279779108610896]\n"
     ]
    }
   ],
   "source": [
    "#plotting sillhouette score \n",
    "agglo_sil_score = [] # empty list for appending silhouette scores\n",
    "for i in range(2,11):\n",
    "    hc=AgglomerativeClustering(n_clusters=i,affinity='euclidean',linkage='ward')\n",
    "    y_hc=hc.fit_predict(df1)\n",
    "    sil_avg2 = silhouette_score(df1,y_hc)#calculating silhouettte score\n",
    "    agglo_sil_score.append(sil_avg2) \n",
    "\n",
    "print(agglo_sil_score)  "
   ]
  },
  {
   "cell_type": "code",
   "execution_count": 100,
   "id": "0a00be8d",
   "metadata": {},
   "outputs": [
    {
     "data": {
      "text/plain": [
       "Text(0, 0.5, 'Silhouette Score')"
      ]
     },
     "execution_count": 100,
     "metadata": {},
     "output_type": "execute_result"
    },
    {
     "data": {
      "image/png": "[encoded data removed]",
      "text/plain": [
       "<Figure size 640x480 with 1 Axes>"
      ]
     },
     "metadata": {},
     "output_type": "display_data"
    }
   ],
   "source": [
    "#ploting number of clusters against silhouette score\n",
    "plt.plot(range(2,11),agglo_sil_score)\n",
    "plt.title('The Silhouette Score')\n",
    "plt.xlabel('Number of Clusters')\n",
    "plt.ylabel('Silhouette Score')"
   ]
  },
  {
   "cell_type": "markdown",
   "id": "3a5bb984",
   "metadata": {},
   "source": [
    "From the above plotted silhouette score of Agglomerative clustering we can infer that silhouette score is maximum for no of clusters=2"
   ]
  },
  {
   "cell_type": "markdown",
   "id": "8d30e0fa",
   "metadata": {},
   "source": [
    "# DBSCAN"
   ]
  },
  {
   "cell_type": "code",
   "execution_count": 103,
   "id": "cd21cd26",
   "metadata": {},
   "outputs": [],
   "source": [
    "from sklearn.neighbors import NearestNeighbors"
   ]
  },
  {
   "cell_type": "code",
   "execution_count": 104,
   "id": "33f0037e",
   "metadata": {},
   "outputs": [],
   "source": [
    "neighbors = NearestNeighbors(n_neighbors=14)#min_samples choosen as 14\n",
    "neighbors_fit = neighbors.fit(df1)\n",
    "distances, indices = neighbors_fit.kneighbors(df1)"
   ]
  },
  {
   "cell_type": "code",
   "execution_count": 105,
   "id": "7ac4e16c",
   "metadata": {},
   "outputs": [
    {
     "data": {
      "image/png": "[encoded data removed]",
      "text/plain": [
       "<Figure size 640x480 with 1 Axes>"
      ]
     },
     "metadata": {},
     "output_type": "display_data"
    }
   ],
   "source": [
    "distances = np.sort(distances, axis=0)\n",
    "distances = distances[:,1]\n",
    "plt.plot(distances)\n",
    "plt.title('K Distance Plot')\n",
    "plt.ylabel('K Distance')\n",
    "plt.xlabel('Data points sorted by distance')\n",
    "plt.grid()"
   ]
  },
  {
   "cell_type": "markdown",
   "id": "040c93f4",
   "metadata": {},
   "source": [
    "From the graph we can infer that elbow occuring above the value 30"
   ]
  },
  {
   "cell_type": "code",
   "execution_count": 106,
   "id": "a1d89933",
   "metadata": {},
   "outputs": [],
   "source": [
    "from sklearn.cluster import DBSCAN"
   ]
  },
  {
   "cell_type": "markdown",
   "id": "4b589ad8",
   "metadata": {},
   "source": [
    "Epsilon(eps) value choosen is 38, min_samples >= D+1(D-Dimension of dataset),D here is 13,so D+1=14 . The minimum value of MinPts must be chosen at least 14"
   ]
  },
  {
   "cell_type": "code",
   "execution_count": 108,
   "id": "c6659c00",
   "metadata": {},
   "outputs": [],
   "source": [
    "\n",
    "db=DBSCAN(eps=38,min_samples=14,metric='euclidean',algorithm='auto')"
   ]
  },
  {
   "cell_type": "code",
   "execution_count": 109,
   "id": "bd604918",
   "metadata": {},
   "outputs": [],
   "source": [
    "y_db=db.fit_predict(df1)"
   ]
  },
  {
   "cell_type": "code",
   "execution_count": 110,
   "id": "e4a33a31",
   "metadata": {},
   "outputs": [
    {
     "data": {
      "text/plain": [
       "array([-1, -1, -1, -1,  0, -1, -1, -1, -1, -1, -1, -1, -1, -1, -1, -1, -1,\n",
       "       -1, -1, -1, -1, -1, -1, -1, -1, -1, -1, -1, -1, -1, -1, -1, -1, -1,\n",
       "       -1, -1, -1, -1, -1, -1, -1, -1,  0, -1, -1, -1, -1, -1, -1, -1, -1,\n",
       "       -1, -1, -1, -1, -1, -1, -1,  0,  0,  0,  0,  0,  0,  0,  0,  0, -1,\n",
       "       -1,  0,  0, -1,  0,  0,  0,  0, -1,  0,  0,  0,  0,  0,  0,  0,  0,\n",
       "        0,  0,  0,  0, -1,  0,  0,  0,  0,  0,  0,  0,  0,  0,  0, -1,  0,\n",
       "        0, -1,  0, -1,  0,  0,  0,  0,  0, -1,  0,  0,  0,  0,  0,  0,  0,\n",
       "        0,  0,  0,  0,  0,  0,  0,  0,  0,  0,  0,  0,  0,  0, -1,  0,  0,\n",
       "       -1, -1,  0,  0,  0,  0,  0,  0,  0,  0,  0, -1,  0,  0,  0,  0,  0,\n",
       "        0,  0, -1,  0,  0,  0,  0,  0, -1, -1, -1,  0], dtype=int64)"
      ]
     },
     "execution_count": 110,
     "metadata": {},
     "output_type": "execute_result"
    }
   ],
   "source": [
    "\n",
    "y_db\n",
    "     "
   ]
  },
  {
   "cell_type": "code",
   "execution_count": 111,
   "id": "47d49f19",
   "metadata": {},
   "outputs": [],
   "source": [
    "sil_avg3=silhouette_score(df1,y_db)#calculating silhouette score"
   ]
  },
  {
   "cell_type": "code",
   "execution_count": 112,
   "id": "8d8dd658",
   "metadata": {},
   "outputs": [
    {
     "data": {
      "text/plain": [
       "0.5379029174020773"
      ]
     },
     "execution_count": 112,
     "metadata": {},
     "output_type": "execute_result"
    }
   ],
   "source": [
    "sil_avg3"
   ]
  },
  {
   "cell_type": "code",
   "execution_count": 113,
   "id": "67c0f985",
   "metadata": {},
   "outputs": [
    {
     "name": "stdout",
     "output_type": "stream",
     "text": [
      "[-0.11613043584081517, -0.158288859089751, -0.158288859089751, -0.010007360766956484, -0.002803336962958065, 0.052109860521477695, 0.11071347912391125, 0.17496905322072853, 0.2486233172786492, 0.2486233172786492, 0.24293358959006345, 0.24293358959006345, 0.2525436723034739, 0.5109223744591859, 0.5379029174020773, 0.5379029174020773, 0.5379029174020773, 0.551773789298016, 0.3942094234392374]\n"
     ]
    }
   ],
   "source": [
    "#plotting sillhouette score \n",
    "db_sil_score = [] # empty list for appending silhouette scores\n",
    "for i in range(23,42):\n",
    "    db=DBSCAN(eps=i,min_samples=14,metric='euclidean',algorithm='auto')\n",
    "    y_db=db.fit_predict(df1)\n",
    "    sil_avg_db = silhouette_score(df1,y_db)#calculating silhouettte score\n",
    "    db_sil_score.append(sil_avg_db) \n",
    "\n",
    "print(db_sil_score)  "
   ]
  },
  {
   "cell_type": "code",
   "execution_count": 114,
   "id": "92f313c8",
   "metadata": {},
   "outputs": [
    {
     "data": {
      "image/png": "[encoded data removed]",
      "text/plain": [
       "<Figure size 640x480 with 1 Axes>"
      ]
     },
     "metadata": {},
     "output_type": "display_data"
    }
   ],
   "source": [
    "#ploting number of clusters against silhouette score\n",
    "plt.plot(range(23,42),db_sil_score)\n",
    "plt.title('The Silhouette Score')\n",
    "plt.xlabel('Epsilon  Value')\n",
    "plt.ylabel('Silhouette Score')\n",
    "plt.grid()"
   ]
  },
  {
   "cell_type": "markdown",
   "id": "35848462",
   "metadata": {},
   "source": [
    "#From the above plotted graph of silhouette score of DBSCAN ,the silhouette score is maximum for epsilon values from 38 to 40.\n",
    "\n",
    "\n",
    "\n",
    "CONCLUSION\n",
    "\n",
    "1.For Kmeans the silhouette score =0.659 for number of clusters= 2.\n",
    "\n",
    "2.For Agglomerative hc the silhouette score =0.653 for number of clusters =2.\n",
    "\n",
    "3.For DBSCAN the silhouette score =0.530 for eps=38 and min_samples=14."
   ]
  }
 ],
 "metadata": {
  "kernelspec": {
   "display_name": "Python 3 (ipykernel)",
   "language": "python",
   "name": "python3"
  },
  "language_info": {
   "codemirror_mode": {
    "name": "ipython",
    "version": 3
   },
   "file_extension": ".py",
   "mimetype": "text/x-python",
   "name": "python",
   "nbconvert_exporter": "python",
   "pygments_lexer": "ipython3",
   "version": "3.9.13"
  }
 },
 "nbformat": 4,
 "nbformat_minor": 5
}
