{
 "cells": [
  {
   "cell_type": "code",
   "execution_count": 1,
   "id": "c04b5a44",
   "metadata": {},
   "outputs": [],
   "source": [
    "# importing libraries\n",
    "import numpy as np\n",
    "import pandas as pd\n",
    "import matplotlib.pyplot as plt\n",
    "import seaborn as sns"
   ]
  },
  {
   "cell_type": "code",
   "execution_count": 2,
   "id": "90965d3f",
   "metadata": {},
   "outputs": [],
   "source": [
    "# Loading Dataset\n",
    "df=pd.read_csv(r'file:///C:\\Users\\SHAKIR\\OneDrive\\Desktop\\DATASET\\car_age_price.csv')"
   ]
  },
  {
   "cell_type": "code",
   "execution_count": 3,
   "id": "9cc2eba2",
   "metadata": {},
   "outputs": [
    {
     "data": {
      "text/html": [
       "<div>\n",
       "<style scoped>\n",
       "    .dataframe tbody tr th:only-of-type {\n",
       "        vertical-align: middle;\n",
       "    }\n",
       "\n",
       "    .dataframe tbody tr th {\n",
       "        vertical-align: top;\n",
       "    }\n",
       "\n",
       "    .dataframe thead th {\n",
       "        text-align: right;\n",
       "    }\n",
       "</style>\n",
       "<table border=\"1\" class=\"dataframe\">\n",
       "  <thead>\n",
       "    <tr style=\"text-align: right;\">\n",
       "      <th></th>\n",
       "      <th>Year</th>\n",
       "      <th>Price</th>\n",
       "    </tr>\n",
       "  </thead>\n",
       "  <tbody>\n",
       "    <tr>\n",
       "      <th>0</th>\n",
       "      <td>2018</td>\n",
       "      <td>465000</td>\n",
       "    </tr>\n",
       "    <tr>\n",
       "      <th>1</th>\n",
       "      <td>2019</td>\n",
       "      <td>755000</td>\n",
       "    </tr>\n",
       "    <tr>\n",
       "      <th>2</th>\n",
       "      <td>2019</td>\n",
       "      <td>700000</td>\n",
       "    </tr>\n",
       "    <tr>\n",
       "      <th>3</th>\n",
       "      <td>2018</td>\n",
       "      <td>465000</td>\n",
       "    </tr>\n",
       "    <tr>\n",
       "      <th>4</th>\n",
       "      <td>2018</td>\n",
       "      <td>465000</td>\n",
       "    </tr>\n",
       "  </tbody>\n",
       "</table>\n",
       "</div>"
      ],
      "text/plain": [
       "   Year   Price\n",
       "0  2018  465000\n",
       "1  2019  755000\n",
       "2  2019  700000\n",
       "3  2018  465000\n",
       "4  2018  465000"
      ]
     },
     "execution_count": 3,
     "metadata": {},
     "output_type": "execute_result"
    }
   ],
   "source": [
    "\n",
    "df.head()"
   ]
  },
  {
   "cell_type": "code",
   "execution_count": 4,
   "id": "3ccdc821",
   "metadata": {},
   "outputs": [
    {
     "name": "stdout",
     "output_type": "stream",
     "text": [
      "<class 'pandas.core.frame.DataFrame'>\n",
      "RangeIndex: 112 entries, 0 to 111\n",
      "Data columns (total 2 columns):\n",
      " #   Column  Non-Null Count  Dtype\n",
      "---  ------  --------------  -----\n",
      " 0   Year    112 non-null    int64\n",
      " 1   Price   112 non-null    int64\n",
      "dtypes: int64(2)\n",
      "memory usage: 1.9 KB\n"
     ]
    }
   ],
   "source": [
    "df.info()#information about the DataFram"
   ]
  },
  {
   "cell_type": "code",
   "execution_count": 5,
   "id": "47252979",
   "metadata": {},
   "outputs": [
    {
     "data": {
      "text/plain": [
       "(112, 2)"
      ]
     },
     "execution_count": 5,
     "metadata": {},
     "output_type": "execute_result"
    }
   ],
   "source": [
    "df.shape#(rows,columns)\n",
    "     "
   ]
  },
  {
   "cell_type": "code",
   "execution_count": 6,
   "id": "3ab86d96",
   "metadata": {},
   "outputs": [
    {
     "data": {
      "text/html": [
       "<div>\n",
       "<style scoped>\n",
       "    .dataframe tbody tr th:only-of-type {\n",
       "        vertical-align: middle;\n",
       "    }\n",
       "\n",
       "    .dataframe tbody tr th {\n",
       "        vertical-align: top;\n",
       "    }\n",
       "\n",
       "    .dataframe thead th {\n",
       "        text-align: right;\n",
       "    }\n",
       "</style>\n",
       "<table border=\"1\" class=\"dataframe\">\n",
       "  <thead>\n",
       "    <tr style=\"text-align: right;\">\n",
       "      <th></th>\n",
       "      <th>Year</th>\n",
       "      <th>Price</th>\n",
       "    </tr>\n",
       "  </thead>\n",
       "  <tbody>\n",
       "    <tr>\n",
       "      <th>count</th>\n",
       "      <td>112.000000</td>\n",
       "      <td>112.000000</td>\n",
       "    </tr>\n",
       "    <tr>\n",
       "      <th>mean</th>\n",
       "      <td>2016.669643</td>\n",
       "      <td>483866.044643</td>\n",
       "    </tr>\n",
       "    <tr>\n",
       "      <th>std</th>\n",
       "      <td>1.629616</td>\n",
       "      <td>91217.450533</td>\n",
       "    </tr>\n",
       "    <tr>\n",
       "      <th>min</th>\n",
       "      <td>2013.000000</td>\n",
       "      <td>300000.000000</td>\n",
       "    </tr>\n",
       "    <tr>\n",
       "      <th>25%</th>\n",
       "      <td>2015.000000</td>\n",
       "      <td>423750.000000</td>\n",
       "    </tr>\n",
       "    <tr>\n",
       "      <th>50%</th>\n",
       "      <td>2017.000000</td>\n",
       "      <td>500000.000000</td>\n",
       "    </tr>\n",
       "    <tr>\n",
       "      <th>75%</th>\n",
       "      <td>2017.000000</td>\n",
       "      <td>550000.000000</td>\n",
       "    </tr>\n",
       "    <tr>\n",
       "      <th>max</th>\n",
       "      <td>2020.000000</td>\n",
       "      <td>755000.000000</td>\n",
       "    </tr>\n",
       "  </tbody>\n",
       "</table>\n",
       "</div>"
      ],
      "text/plain": [
       "              Year          Price\n",
       "count   112.000000     112.000000\n",
       "mean   2016.669643  483866.044643\n",
       "std       1.629616   91217.450533\n",
       "min    2013.000000  300000.000000\n",
       "25%    2015.000000  423750.000000\n",
       "50%    2017.000000  500000.000000\n",
       "75%    2017.000000  550000.000000\n",
       "max    2020.000000  755000.000000"
      ]
     },
     "execution_count": 6,
     "metadata": {},
     "output_type": "execute_result"
    }
   ],
   "source": [
    "df.describe()# returns description of the data in the DataFrame."
   ]
  },
  {
   "cell_type": "code",
   "execution_count": 7,
   "id": "1345517a",
   "metadata": {},
   "outputs": [],
   "source": [
    "#Null value checking"
   ]
  },
  {
   "cell_type": "code",
   "execution_count": 8,
   "id": "363c67da",
   "metadata": {},
   "outputs": [
    {
     "data": {
      "text/plain": [
       "Year     0\n",
       "Price    0\n",
       "dtype: int64"
      ]
     },
     "execution_count": 8,
     "metadata": {},
     "output_type": "execute_result"
    }
   ],
   "source": [
    "\n",
    "df.isnull().sum()#or df.isna().null()"
   ]
  },
  {
   "cell_type": "markdown",
   "id": "d86b9e96",
   "metadata": {},
   "source": [
    "#Correlation between feature variable Year and target variable Price"
   ]
  },
  {
   "cell_type": "code",
   "execution_count": 10,
   "id": "ab0a0079",
   "metadata": {},
   "outputs": [
    {
     "data": {
      "text/html": [
       "<div>\n",
       "<style scoped>\n",
       "    .dataframe tbody tr th:only-of-type {\n",
       "        vertical-align: middle;\n",
       "    }\n",
       "\n",
       "    .dataframe tbody tr th {\n",
       "        vertical-align: top;\n",
       "    }\n",
       "\n",
       "    .dataframe thead th {\n",
       "        text-align: right;\n",
       "    }\n",
       "</style>\n",
       "<table border=\"1\" class=\"dataframe\">\n",
       "  <thead>\n",
       "    <tr style=\"text-align: right;\">\n",
       "      <th></th>\n",
       "      <th>Year</th>\n",
       "      <th>Price</th>\n",
       "    </tr>\n",
       "  </thead>\n",
       "  <tbody>\n",
       "    <tr>\n",
       "      <th>Year</th>\n",
       "      <td>1.000000</td>\n",
       "      <td>0.776302</td>\n",
       "    </tr>\n",
       "    <tr>\n",
       "      <th>Price</th>\n",
       "      <td>0.776302</td>\n",
       "      <td>1.000000</td>\n",
       "    </tr>\n",
       "  </tbody>\n",
       "</table>\n",
       "</div>"
      ],
      "text/plain": [
       "           Year     Price\n",
       "Year   1.000000  0.776302\n",
       "Price  0.776302  1.000000"
      ]
     },
     "execution_count": 10,
     "metadata": {},
     "output_type": "execute_result"
    }
   ],
   "source": [
    "\n",
    "df.corr()"
   ]
  },
  {
   "cell_type": "markdown",
   "id": "c66a5e95",
   "metadata": {},
   "source": [
    "They have high positive correlation having correlation coefficient(r) value of 0.776,so a linear model can created using them."
   ]
  },
  {
   "cell_type": "code",
   "execution_count": 11,
   "id": "6dacd0fe",
   "metadata": {},
   "outputs": [
    {
     "data": {
      "image/png": "[encoded data removed]",
      "text/plain": [
       "<Figure size 600x400 with 2 Axes>"
      ]
     },
     "metadata": {},
     "output_type": "display_data"
    }
   ],
   "source": [
    "#HEATMAP\n",
    "\n",
    "\n",
    "corrmatrix=df.corr()\n",
    "plt.subplots(figsize=(6,4))\n",
    "sns.heatmap(corrmatrix,vmin=0.4,vmax=1,annot=True,cmap='Blues');\n"
   ]
  },
  {
   "cell_type": "code",
   "execution_count": 12,
   "id": "9c67dd49",
   "metadata": {},
   "outputs": [
    {
     "data": {
      "image/png": "[encoded data removed]",
      "text/plain": [
       "<Figure size 1000x600 with 1 Axes>"
      ]
     },
     "metadata": {},
     "output_type": "display_data"
    }
   ],
   "source": [
    "#Scatter Plot between Year and Price\n",
    "plt.figure(figsize =(10, 6))\n",
    "plt.scatter(df['Year'], df['Price'], color =\"blue\");"
   ]
  },
  {
   "cell_type": "markdown",
   "id": "e73fbd94",
   "metadata": {},
   "source": [
    "Scatter plot also show positive correlation between Year and Price"
   ]
  },
  {
   "cell_type": "code",
   "execution_count": 13,
   "id": "29ce2be5",
   "metadata": {},
   "outputs": [
    {
     "data": {
      "text/plain": [
       "[<matplotlib.lines.Line2D at 0x1c24a8b8e50>]"
      ]
     },
     "execution_count": 13,
     "metadata": {},
     "output_type": "execute_result"
    },
    {
     "data": {
      "image/png": "[encoded data removed]",
      "text/plain": [
       "<Figure size 640x480 with 1 Axes>"
      ]
     },
     "metadata": {},
     "output_type": "display_data"
    }
   ],
   "source": [
    "#Line Plot between Year and Price\n",
    "z=df.sort_values(by='Year')\n",
    "plt.plot(z['Year'],z['Price'])"
   ]
  },
  {
   "cell_type": "markdown",
   "id": "42393739",
   "metadata": {},
   "source": [
    "# LINEAR REGRESSION MODEL\n"
   ]
  },
  {
   "cell_type": "code",
   "execution_count": 14,
   "id": "ccd790a6",
   "metadata": {},
   "outputs": [],
   "source": [
    "#y is the target,x is the feature \n",
    "y=df['Price']\n",
    "x=df.drop('Price',axis=1)"
   ]
  },
  {
   "cell_type": "code",
   "execution_count": 15,
   "id": "93fed6c7",
   "metadata": {},
   "outputs": [],
   "source": [
    "from sklearn.model_selection import train_test_split\n"
   ]
  },
  {
   "cell_type": "code",
   "execution_count": 17,
   "id": "927064fb",
   "metadata": {},
   "outputs": [],
   "source": [
    "\n",
    "\n",
    "#splitting x and y values into training and testing data,test size taken is 25% and random state set to 42\n",
    "x_train,x_test,y_train,y_test=train_test_split(x,y,test_size=0.25,random_state=42)"
   ]
  },
  {
   "cell_type": "code",
   "execution_count": 18,
   "id": "427d2412",
   "metadata": {},
   "outputs": [],
   "source": [
    "\n",
    "from sklearn.linear_model import LinearRegression\n",
    "lr=LinearRegression()#creating an instance of LinearRegression()\n",
    "model=lr.fit(x_train,y_train)#creating the model using training data\n",
    "y_pred=model.predict(x_test)#predicting values using the model created using training data"
   ]
  },
  {
   "cell_type": "code",
   "execution_count": 19,
   "id": "a0ff427b",
   "metadata": {},
   "outputs": [
    {
     "name": "stdout",
     "output_type": "stream",
     "text": [
      "Mean squared Error on test set :  3878767151.0734487\n"
     ]
    }
   ],
   "source": [
    "\n",
    "# calculating Mean Squared Error (mse)\n",
    "mean_squared_error = np.mean((y_pred - y_test)**2)\n",
    "print(\"Mean squared Error on test set : \", mean_squared_error)"
   ]
  },
  {
   "cell_type": "code",
   "execution_count": 20,
   "id": "0bd7bb7e",
   "metadata": {},
   "outputs": [
    {
     "name": "stdout",
     "output_type": "stream",
     "text": [
      "MSE is: 3878767151.073449\n",
      "R sqaured value is: 0.4347961632108023\n"
     ]
    }
   ],
   "source": [
    "from sklearn.metrics import mean_squared_error,r2_score\n",
    "print('MSE is:',mean_squared_error(y_test,y_pred))#MSE value\n",
    "print('R sqaured value is:',r2_score(y_test,y_pred))#R"
   ]
  },
  {
   "cell_type": "code",
   "execution_count": 21,
   "id": "67c32011",
   "metadata": {},
   "outputs": [
    {
     "data": {
      "image/png": "[encoded data removed]",
      "text/plain": [
       "<Figure size 1000x600 with 2 Axes>"
      ]
     },
     "metadata": {},
     "output_type": "display_data"
    }
   ],
   "source": [
    "plt.figure(figsize=(10,6))\n",
    "x1=x_test.sort_values(by='Year')\n",
    "\n",
    "plt.subplot(1,2,1)\n",
    "plt.plot(x1,y_test)#plotting Year and Y_test values\n",
    "plt.title('Year vs Y_test')\n",
    "\n",
    "plt.subplot(1,2,2)\n",
    "plt.plot(x1,y_pred);#plotting Year and Y_pred values\n",
    "plt.title('Year vs Y_pred')\n",
    "\n",
    "plt.tight_layout()\n",
    "     \n"
   ]
  },
  {
   "cell_type": "markdown",
   "id": "1069fb00",
   "metadata": {},
   "source": [
    "Predicting the possible price of a 2022 model second-hand grand i10(using Linear Regression)"
   ]
  },
  {
   "cell_type": "markdown",
   "id": "7b05ca80",
   "metadata": {},
   "source": [
    "# Method 1\n"
   ]
  },
  {
   "cell_type": "code",
   "execution_count": 22,
   "id": "687a1475",
   "metadata": {},
   "outputs": [
    {
     "name": "stderr",
     "output_type": "stream",
     "text": [
      "C:\\Users\\SHAKIR\\OneDrive\\Desktop\\New folder\\anaconda\\lib\\site-packages\\sklearn\\base.py:450: UserWarning: X does not have valid feature names, but LinearRegression was fitted with feature names\n",
      "  warnings.warn(\n"
     ]
    }
   ],
   "source": [
    "#predicting  the possible price of a 2022 model second-hand grand i10\n",
    "x_test2022=np.array([[2022]])#passing value 2022 as in an array\n",
    "\n",
    "ypred2022=model.predict(x_test2022)#model prediction"
   ]
  },
  {
   "cell_type": "code",
   "execution_count": 23,
   "id": "58b6a7cc",
   "metadata": {},
   "outputs": [
    {
     "data": {
      "text/plain": [
       "array([740160.11937766])"
      ]
     },
     "execution_count": 23,
     "metadata": {},
     "output_type": "execute_result"
    }
   ],
   "source": [
    "ypred2022#predicted car price for 2022"
   ]
  },
  {
   "cell_type": "markdown",
   "id": "8a9b03d7",
   "metadata": {},
   "source": [
    "# Method2"
   ]
  },
  {
   "cell_type": "code",
   "execution_count": 24,
   "id": "a440f296",
   "metadata": {},
   "outputs": [],
   "source": [
    "x_test2022=pd.DataFrame([2022],columns=['Year'])#paasing value 2022 as in DataFrame\n",
    "ypred2022=model.predict(x_test2022)#model prediction"
   ]
  },
  {
   "cell_type": "code",
   "execution_count": 25,
   "id": "e0368566",
   "metadata": {},
   "outputs": [
    {
     "data": {
      "text/plain": [
       "array([740160.11937766])"
      ]
     },
     "execution_count": 25,
     "metadata": {},
     "output_type": "execute_result"
    }
   ],
   "source": [
    "\n",
    "ypred2022#predicted car price for 2022"
   ]
  },
  {
   "cell_type": "markdown",
   "id": "dddb273a",
   "metadata": {},
   "source": [
    "The predicted possible price of a 2022 model second-hand grand i10 (by Linear Regression) is 740160.119 units.\n"
   ]
  },
  {
   "cell_type": "markdown",
   "id": "d5c8e86e",
   "metadata": {},
   "source": [
    "# Standard Scaling on feature 'Year"
   ]
  },
  {
   "cell_type": "code",
   "execution_count": 26,
   "id": "1a5266af",
   "metadata": {},
   "outputs": [],
   "source": [
    "\n",
    "df2=df.drop('Price',axis=1)"
   ]
  },
  {
   "cell_type": "code",
   "execution_count": 27,
   "id": "6b202f09",
   "metadata": {},
   "outputs": [],
   "source": [
    "from sklearn.preprocessing import StandardScaler\n",
    "stdsclr= StandardScaler()#creating the instance\n",
    "x2=stdsclr.fit_transform(df2)#X2 is an array"
   ]
  },
  {
   "cell_type": "code",
   "execution_count": 29,
   "id": "ace0b35d",
   "metadata": {},
   "outputs": [],
   "source": [
    "x2=pd.DataFrame(x2,columns=['Year'])#converting back into dataframe"
   ]
  },
  {
   "cell_type": "code",
   "execution_count": 30,
   "id": "b5a254a8",
   "metadata": {},
   "outputs": [
    {
     "data": {
      "text/html": [
       "<div>\n",
       "<style scoped>\n",
       "    .dataframe tbody tr th:only-of-type {\n",
       "        vertical-align: middle;\n",
       "    }\n",
       "\n",
       "    .dataframe tbody tr th {\n",
       "        vertical-align: top;\n",
       "    }\n",
       "\n",
       "    .dataframe thead th {\n",
       "        text-align: right;\n",
       "    }\n",
       "</style>\n",
       "<table border=\"1\" class=\"dataframe\">\n",
       "  <thead>\n",
       "    <tr style=\"text-align: right;\">\n",
       "      <th></th>\n",
       "      <th>Year</th>\n",
       "    </tr>\n",
       "  </thead>\n",
       "  <tbody>\n",
       "    <tr>\n",
       "      <th>0</th>\n",
       "      <td>0.820032</td>\n",
       "    </tr>\n",
       "    <tr>\n",
       "      <th>1</th>\n",
       "      <td>1.436431</td>\n",
       "    </tr>\n",
       "    <tr>\n",
       "      <th>2</th>\n",
       "      <td>1.436431</td>\n",
       "    </tr>\n",
       "    <tr>\n",
       "      <th>3</th>\n",
       "      <td>0.820032</td>\n",
       "    </tr>\n",
       "    <tr>\n",
       "      <th>4</th>\n",
       "      <td>0.820032</td>\n",
       "    </tr>\n",
       "    <tr>\n",
       "      <th>...</th>\n",
       "      <td>...</td>\n",
       "    </tr>\n",
       "    <tr>\n",
       "      <th>107</th>\n",
       "      <td>-0.412768</td>\n",
       "    </tr>\n",
       "    <tr>\n",
       "      <th>108</th>\n",
       "      <td>-1.645567</td>\n",
       "    </tr>\n",
       "    <tr>\n",
       "      <th>109</th>\n",
       "      <td>-1.029167</td>\n",
       "    </tr>\n",
       "    <tr>\n",
       "      <th>110</th>\n",
       "      <td>-0.412768</td>\n",
       "    </tr>\n",
       "    <tr>\n",
       "      <th>111</th>\n",
       "      <td>-1.029167</td>\n",
       "    </tr>\n",
       "  </tbody>\n",
       "</table>\n",
       "<p>112 rows × 1 columns</p>\n",
       "</div>"
      ],
      "text/plain": [
       "         Year\n",
       "0    0.820032\n",
       "1    1.436431\n",
       "2    1.436431\n",
       "3    0.820032\n",
       "4    0.820032\n",
       "..        ...\n",
       "107 -0.412768\n",
       "108 -1.645567\n",
       "109 -1.029167\n",
       "110 -0.412768\n",
       "111 -1.029167\n",
       "\n",
       "[112 rows x 1 columns]"
      ]
     },
     "execution_count": 30,
     "metadata": {},
     "output_type": "execute_result"
    }
   ],
   "source": [
    "\n",
    "x2\n"
   ]
  },
  {
   "cell_type": "code",
   "execution_count": 31,
   "id": "edc1961a",
   "metadata": {},
   "outputs": [],
   "source": [
    "x3=pd.concat([x2,df['Price']],axis=1)#concatenating "
   ]
  },
  {
   "cell_type": "code",
   "execution_count": 32,
   "id": "e07b081a",
   "metadata": {},
   "outputs": [
    {
     "data": {
      "text/html": [
       "<div>\n",
       "<style scoped>\n",
       "    .dataframe tbody tr th:only-of-type {\n",
       "        vertical-align: middle;\n",
       "    }\n",
       "\n",
       "    .dataframe tbody tr th {\n",
       "        vertical-align: top;\n",
       "    }\n",
       "\n",
       "    .dataframe thead th {\n",
       "        text-align: right;\n",
       "    }\n",
       "</style>\n",
       "<table border=\"1\" class=\"dataframe\">\n",
       "  <thead>\n",
       "    <tr style=\"text-align: right;\">\n",
       "      <th></th>\n",
       "      <th>Year</th>\n",
       "      <th>Price</th>\n",
       "    </tr>\n",
       "  </thead>\n",
       "  <tbody>\n",
       "    <tr>\n",
       "      <th>0</th>\n",
       "      <td>0.820032</td>\n",
       "      <td>465000</td>\n",
       "    </tr>\n",
       "    <tr>\n",
       "      <th>1</th>\n",
       "      <td>1.436431</td>\n",
       "      <td>755000</td>\n",
       "    </tr>\n",
       "    <tr>\n",
       "      <th>2</th>\n",
       "      <td>1.436431</td>\n",
       "      <td>700000</td>\n",
       "    </tr>\n",
       "    <tr>\n",
       "      <th>3</th>\n",
       "      <td>0.820032</td>\n",
       "      <td>465000</td>\n",
       "    </tr>\n",
       "    <tr>\n",
       "      <th>4</th>\n",
       "      <td>0.820032</td>\n",
       "      <td>465000</td>\n",
       "    </tr>\n",
       "    <tr>\n",
       "      <th>...</th>\n",
       "      <td>...</td>\n",
       "      <td>...</td>\n",
       "    </tr>\n",
       "    <tr>\n",
       "      <th>107</th>\n",
       "      <td>-0.412768</td>\n",
       "      <td>375000</td>\n",
       "    </tr>\n",
       "    <tr>\n",
       "      <th>108</th>\n",
       "      <td>-1.645567</td>\n",
       "      <td>300000</td>\n",
       "    </tr>\n",
       "    <tr>\n",
       "      <th>109</th>\n",
       "      <td>-1.029167</td>\n",
       "      <td>425000</td>\n",
       "    </tr>\n",
       "    <tr>\n",
       "      <th>110</th>\n",
       "      <td>-0.412768</td>\n",
       "      <td>420000</td>\n",
       "    </tr>\n",
       "    <tr>\n",
       "      <th>111</th>\n",
       "      <td>-1.029167</td>\n",
       "      <td>425000</td>\n",
       "    </tr>\n",
       "  </tbody>\n",
       "</table>\n",
       "<p>112 rows × 2 columns</p>\n",
       "</div>"
      ],
      "text/plain": [
       "         Year   Price\n",
       "0    0.820032  465000\n",
       "1    1.436431  755000\n",
       "2    1.436431  700000\n",
       "3    0.820032  465000\n",
       "4    0.820032  465000\n",
       "..        ...     ...\n",
       "107 -0.412768  375000\n",
       "108 -1.645567  300000\n",
       "109 -1.029167  425000\n",
       "110 -0.412768  420000\n",
       "111 -1.029167  425000\n",
       "\n",
       "[112 rows x 2 columns]"
      ]
     },
     "execution_count": 32,
     "metadata": {},
     "output_type": "execute_result"
    }
   ],
   "source": [
    "\n",
    "x3"
   ]
  },
  {
   "cell_type": "markdown",
   "id": "50a80b9e",
   "metadata": {},
   "source": [
    "# Linear Regression analysis after scaling the feature Year"
   ]
  },
  {
   "cell_type": "code",
   "execution_count": 33,
   "id": "588c55ac",
   "metadata": {},
   "outputs": [],
   "source": [
    "x1=x3.drop('Price',axis=1)\n",
    "y1=df['Price']\n",
    "     "
   ]
  },
  {
   "cell_type": "code",
   "execution_count": 35,
   "id": "5db2af0e",
   "metadata": {},
   "outputs": [],
   "source": [
    "x_train1,x_test1,y_train1,y_test1=train_test_split(x1,y1,test_size=0.25,random_state=42)"
   ]
  },
  {
   "cell_type": "code",
   "execution_count": 36,
   "id": "179e7515",
   "metadata": {},
   "outputs": [],
   "source": [
    "model=lr.fit(x_train1,y_train1)#creating the model using training data\n",
    "y_pred1=model.predict(x_test1)#predicting values"
   ]
  },
  {
   "cell_type": "code",
   "execution_count": 37,
   "id": "b84da36f",
   "metadata": {},
   "outputs": [
    {
     "name": "stdout",
     "output_type": "stream",
     "text": [
      "MSE is: 3878767151.0726194\n"
     ]
    }
   ],
   "source": [
    "from sklearn.metrics import mean_squared_error,r2_score\n",
    "print('MSE is:',mean_squared_error(y_test1,y_pred1))\n",
    "     "
   ]
  },
  {
   "cell_type": "code",
   "execution_count": 38,
   "id": "5a720b1c",
   "metadata": {},
   "outputs": [
    {
     "name": "stdout",
     "output_type": "stream",
     "text": [
      "R sqaured value is: 0.4347961632109232\n"
     ]
    }
   ],
   "source": [
    "print('R sqaured value is:',r2_score(y_test1,y_pred1))"
   ]
  },
  {
   "cell_type": "code",
   "execution_count": 39,
   "id": "6b9828e1",
   "metadata": {},
   "outputs": [
    {
     "name": "stdout",
     "output_type": "stream",
     "text": [
      "Mean squared Error on test set :  3878767151.0726204\n"
     ]
    }
   ],
   "source": [
    "# calculating Mean Squared Error (mse)\n",
    "mean_squared_error = np.mean((y_pred1 - y_test1)**2)\n",
    "print(\"Mean squared Error on test set : \", mean_squared_error)"
   ]
  },
  {
   "cell_type": "raw",
   "id": "793ab187",
   "metadata": {},
   "source": [
    "The MSE and R2 score doesn't improved even after doing scaling on feature 'Year"
   ]
  },
  {
   "cell_type": "markdown",
   "id": "de654d8e",
   "metadata": {},
   "source": [
    "# Lasso Regression\n",
    "It is a Regularization Method to reduce Overfitting.\n",
    "With Lasso when we increase the value of Lambda(alpha) the most important parameters shrink a little bit and the less important parameters goes closed to zero. So, Lasso is able to exclude silly parameters from the model."
   ]
  },
  {
   "cell_type": "code",
   "execution_count": 40,
   "id": "e60be295",
   "metadata": {},
   "outputs": [],
   "source": [
    "from sklearn.linear_model import Lasso"
   ]
  },
  {
   "cell_type": "code",
   "execution_count": 42,
   "id": "4576a3e7",
   "metadata": {},
   "outputs": [],
   "source": [
    "from sklearn.model_selection import train_test_split\n",
    "\n",
    "#splitting x and y values into training and testing data,test size taken is 25% and random state set to 42\n",
    "x_train,x_test,y_train,y_test=train_test_split(x,y,test_size=0.25,random_state=42)"
   ]
  },
  {
   "cell_type": "markdown",
   "id": "74ff8249",
   "metadata": {},
   "source": [
    "alpha=0.1"
   ]
  },
  {
   "cell_type": "code",
   "execution_count": 43,
   "id": "da2eaedc",
   "metadata": {},
   "outputs": [],
   "source": [
    "ls=Lasso(alpha=0.1)\n",
    "model=ls.fit(x_train,y_train)#creating the model using training data\n",
    "y_pred=model.predict(x_test)#predicting values"
   ]
  },
  {
   "cell_type": "code",
   "execution_count": 44,
   "id": "5bac3ac0",
   "metadata": {},
   "outputs": [
    {
     "name": "stdout",
     "output_type": "stream",
     "text": [
      "MSE is: 3878764025.5442586\n",
      "R sqaured value is: 0.43479661865476726\n"
     ]
    }
   ],
   "source": [
    "from sklearn.metrics import mean_squared_error,r2_score\n",
    "print('MSE is:',mean_squared_error(y_test,y_pred))\n",
    "print('R sqaured value is:',r2_score(y_test,y_pred))"
   ]
  },
  {
   "cell_type": "code",
   "execution_count": 45,
   "id": "d49aca61",
   "metadata": {},
   "outputs": [
    {
     "data": {
      "image/png": "[encoded data removed]",
      "text/plain": [
       "<Figure size 1000x600 with 2 Axes>"
      ]
     },
     "metadata": {},
     "output_type": "display_data"
    }
   ],
   "source": [
    "plt.figure(figsize=(10,6))\n",
    "x1=x_test.sort_values(by='Year')\n",
    "\n",
    "plt.subplot(1,2,1)\n",
    "plt.plot(x1,y_test)#plotting Year and Y_test values\n",
    "plt.title('Year vs Y_test')\n",
    "\n",
    "plt.subplot(1,2,2)\n",
    "plt.plot(x1,y_pred);#plotting Year and Y_pred values\n",
    "plt.title('Year vs Y_pred')\n",
    "\n",
    "plt.tight_layout()"
   ]
  },
  {
   "cell_type": "raw",
   "id": "b9c5996c",
   "metadata": {},
   "source": [
    "Predicting the possible price of a 2022 model second-hand grand i10(using Lasso Regression)"
   ]
  },
  {
   "cell_type": "markdown",
   "id": "e0de86a5",
   "metadata": {},
   "source": [
    "# Method 1"
   ]
  },
  {
   "cell_type": "code",
   "execution_count": 46,
   "id": "c13f9a35",
   "metadata": {},
   "outputs": [
    {
     "name": "stderr",
     "output_type": "stream",
     "text": [
      "C:\\Users\\SHAKIR\\OneDrive\\Desktop\\New folder\\anaconda\\lib\\site-packages\\sklearn\\base.py:450: UserWarning: X does not have valid feature names, but Lasso was fitted with feature names\n",
      "  warnings.warn(\n"
     ]
    }
   ],
   "source": [
    "#predicting  the possible price of a 2022 model second-hand grand i10\n",
    "x_test2022=np.array([[2022]])\n",
    "\n",
    "ypred2022=model.predict(x_test2022)#predicting values\n",
    "     "
   ]
  },
  {
   "cell_type": "code",
   "execution_count": 47,
   "id": "794687f2",
   "metadata": {},
   "outputs": [
    {
     "data": {
      "text/plain": [
       "array([740159.90314002])"
      ]
     },
     "execution_count": 47,
     "metadata": {},
     "output_type": "execute_result"
    }
   ],
   "source": [
    "ypred2022#predicted car price for 2022"
   ]
  },
  {
   "cell_type": "markdown",
   "id": "db0076d1",
   "metadata": {},
   "source": [
    "# Method 2"
   ]
  },
  {
   "cell_type": "code",
   "execution_count": 48,
   "id": "395cda18",
   "metadata": {},
   "outputs": [],
   "source": [
    "x_test2022=pd.DataFrame([2022],columns=['Year'])#paasing value 2022 as in DataFrame\n",
    "ypred2022=model.predict(x_test2022)#model prediction"
   ]
  },
  {
   "cell_type": "code",
   "execution_count": 49,
   "id": "eb380602",
   "metadata": {},
   "outputs": [
    {
     "data": {
      "text/plain": [
       "array([740159.90314002])"
      ]
     },
     "execution_count": 49,
     "metadata": {},
     "output_type": "execute_result"
    }
   ],
   "source": [
    "ypred2022#predicted car price for 2022"
   ]
  },
  {
   "cell_type": "raw",
   "id": "a487dfed",
   "metadata": {},
   "source": [
    "The predicted possible price of a 2022 model second-hand grand i10 (by Lasso Regression and alpha=0.1) is 740159.903 units."
   ]
  },
  {
   "cell_type": "markdown",
   "id": "bf5b9cb8",
   "metadata": {},
   "source": [
    "# alpha=1"
   ]
  },
  {
   "cell_type": "code",
   "execution_count": 50,
   "id": "c404dc5a",
   "metadata": {},
   "outputs": [
    {
     "name": "stdout",
     "output_type": "stream",
     "text": [
      "MSE is: 3878735896.222091\n",
      "R sqaured value is: 0.4348007175862566\n"
     ]
    }
   ],
   "source": [
    "ls=Lasso(alpha=1)\n",
    "model=ls.fit(x_train,y_train)#creating the model using training data\n",
    "y_pred=model.predict(x_test)#predicting values\n",
    "from sklearn.metrics import mean_squared_error,r2_score\n",
    "print('MSE is:',mean_squared_error(y_test,y_pred))\n",
    "print('R sqaured value is:',r2_score(y_test,y_pred))"
   ]
  },
  {
   "cell_type": "code",
   "execution_count": 51,
   "id": "2646fc57",
   "metadata": {},
   "outputs": [
    {
     "data": {
      "text/plain": [
       "array([740157.95700142])"
      ]
     },
     "execution_count": 51,
     "metadata": {},
     "output_type": "execute_result"
    }
   ],
   "source": [
    "x_test2022=pd.DataFrame([2022],columns=['Year'])#paasing value 2022 as in DataFrame\n",
    "ypred2022=model.predict(x_test2022)#model predictionypred2022#predicted car price for 2022\n",
    "ypred2022#predicted car price for 2022"
   ]
  },
  {
   "cell_type": "markdown",
   "id": "53585556",
   "metadata": {},
   "source": [
    "The predicted possible price of a 2022 model second-hand grand i10 (by Lasso Regression and alpha=1) is 740157.957 units."
   ]
  },
  {
   "cell_type": "markdown",
   "id": "893cfee7",
   "metadata": {},
   "source": [
    "# Overall Conclusion\n",
    "   \n",
    "   LINEAR REGRESSION\n",
    "   \n",
    "1.MSE is: 3878767151.073449\n",
    "\n",
    "2.R sqaured value is: 0.4347961632108023\n",
    "\n",
    "\n",
    "   "
   ]
  },
  {
   "cell_type": "markdown",
   "id": "a23d3af0",
   "metadata": {},
   "source": [
    "# Lasso Regression(alpha=0.1):-\n",
    "1.MSE is: 3878764025.5442586\n",
    "\n",
    "2.R sqaured value is: 0.43479661865476726"
   ]
  },
  {
   "cell_type": "markdown",
   "id": "4403f072",
   "metadata": {},
   "source": [
    "# Lasso Regression(alpha=1):-\n",
    "1.MSE is: 3878735896.222091\n",
    "\n",
    "2.R sqaured value is: 0.4348007175862566"
   ]
  },
  {
   "cell_type": "markdown",
   "id": "93cfa257",
   "metadata": {},
   "source": [
    "# The predicted possible price of a 2022 model second-hand grand i10 ,\n",
    "1.(by Linear Regression) is 740160.119 units.\n",
    "\n",
    "2.(by Lasso Regression and alpha=0.1) is 740159.903 units.\n",
    "\n",
    "3.(by Lasso Regression and alpha=1) is 740157.957 units."
   ]
  },
  {
   "cell_type": "markdown",
   "id": "43ca8af0",
   "metadata": {},
   "source": [
    "# There isn't big difference in MSE ,R2 Score and Predcited car price of the year 2022 by performing both Linear and Lasso Regression ,the results are seems to be same."
   ]
  },
  {
   "cell_type": "code",
   "execution_count": null,
   "id": "e79f456f",
   "metadata": {},
   "outputs": [],
   "source": []
  }
 ],
 "metadata": {
  "kernelspec": {
   "display_name": "Python 3 (ipykernel)",
   "language": "python",
   "name": "python3"
  },
  "language_info": {
   "codemirror_mode": {
    "name": "ipython",
    "version": 3
   },
   "file_extension": ".py",
   "mimetype": "text/x-python",
   "name": "python",
   "nbconvert_exporter": "python",
   "pygments_lexer": "ipython3",
   "version": "3.9.13"
  }
 },
 "nbformat": 4,
 "nbformat_minor": 5
}
